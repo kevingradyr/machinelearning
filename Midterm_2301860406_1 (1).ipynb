{
  "nbformat": 4,
  "nbformat_minor": 0,
  "metadata": {
    "colab": {
      "name": "Midterm_2301860406.ipynb",
      "provenance": [],
      "collapsed_sections": []
    },
    "kernelspec": {
      "name": "python3",
      "display_name": "Python 3"
    },
    "language_info": {
      "name": "python"
    }
  },
  "cells": [
    {
      "cell_type": "code",
      "metadata": {
        "id": "4q2J-hTZaDnl"
      },
      "source": [
        "!pip install panda"
      ],
      "execution_count": null,
      "outputs": []
    },
    {
      "cell_type": "code",
      "metadata": {
        "id": "bYOao1-Mbujx"
      },
      "source": [
        "import pandas as pd"
      ],
      "execution_count": null,
      "outputs": []
    },
    {
      "cell_type": "markdown",
      "metadata": {
        "id": "HCGFLl05b79H"
      },
      "source": [
        "### 1. Download and analyse"
      ]
    },
    {
      "cell_type": "code",
      "metadata": {
        "colab": {
          "base_uri": "https://localhost:8080/",
          "height": 779
        },
        "id": "h5IslAUsbxA0",
        "outputId": "7f5ab7f2-9899-4219-ec6c-67a9c61c632c"
      },
      "source": [
        "data = pd.read_csv(\"mydataset.csv\")\n",
        "data"
      ],
      "execution_count": null,
      "outputs": [
        {
          "output_type": "execute_result",
          "data": {
            "text/html": [
              "<div>\n",
              "<style scoped>\n",
              "    .dataframe tbody tr th:only-of-type {\n",
              "        vertical-align: middle;\n",
              "    }\n",
              "\n",
              "    .dataframe tbody tr th {\n",
              "        vertical-align: top;\n",
              "    }\n",
              "\n",
              "    .dataframe thead th {\n",
              "        text-align: right;\n",
              "    }\n",
              "</style>\n",
              "<table border=\"1\" class=\"dataframe\">\n",
              "  <thead>\n",
              "    <tr style=\"text-align: right;\">\n",
              "      <th></th>\n",
              "      <th>id</th>\n",
              "      <th>name</th>\n",
              "      <th>host_id</th>\n",
              "      <th>host_name</th>\n",
              "      <th>neighbourhood_group</th>\n",
              "      <th>neighbourhood</th>\n",
              "      <th>latitude</th>\n",
              "      <th>longitude</th>\n",
              "      <th>room_type</th>\n",
              "      <th>price</th>\n",
              "      <th>minimum_nights</th>\n",
              "      <th>number_of_reviews</th>\n",
              "      <th>last_review</th>\n",
              "      <th>reviews_per_month</th>\n",
              "    </tr>\n",
              "  </thead>\n",
              "  <tbody>\n",
              "    <tr>\n",
              "      <th>0</th>\n",
              "      <td>35303</td>\n",
              "      <td>La Casa Gaienmae C Harajuku, Omotesando is nearby</td>\n",
              "      <td>151977</td>\n",
              "      <td>Miyuki</td>\n",
              "      <td>NaN</td>\n",
              "      <td>Shibuya Ku</td>\n",
              "      <td>35.67152</td>\n",
              "      <td>139.71203</td>\n",
              "      <td>Private room</td>\n",
              "      <td>4196</td>\n",
              "      <td>28</td>\n",
              "      <td>18</td>\n",
              "      <td>2018-07-28</td>\n",
              "      <td>0.20</td>\n",
              "    </tr>\n",
              "    <tr>\n",
              "      <th>1</th>\n",
              "      <td>197677</td>\n",
              "      <td>Oshiage Holiday Apartment</td>\n",
              "      <td>964081</td>\n",
              "      <td>Yoshimi &amp; Marek</td>\n",
              "      <td>NaN</td>\n",
              "      <td>Sumida Ku</td>\n",
              "      <td>35.71721</td>\n",
              "      <td>139.82596</td>\n",
              "      <td>Entire home/apt</td>\n",
              "      <td>10975</td>\n",
              "      <td>3</td>\n",
              "      <td>156</td>\n",
              "      <td>2019-05-21</td>\n",
              "      <td>1.65</td>\n",
              "    </tr>\n",
              "    <tr>\n",
              "      <th>2</th>\n",
              "      <td>289597</td>\n",
              "      <td>Private apt in central Tokyo #203</td>\n",
              "      <td>341577</td>\n",
              "      <td>Hide&amp;Kei</td>\n",
              "      <td>NaN</td>\n",
              "      <td>Nerima Ku</td>\n",
              "      <td>35.74267</td>\n",
              "      <td>139.65810</td>\n",
              "      <td>Entire home/apt</td>\n",
              "      <td>4196</td>\n",
              "      <td>30</td>\n",
              "      <td>107</td>\n",
              "      <td>2019-05-25</td>\n",
              "      <td>1.25</td>\n",
              "    </tr>\n",
              "    <tr>\n",
              "      <th>3</th>\n",
              "      <td>370759</td>\n",
              "      <td>Cozy flat #203, local area YET 10 mins to shib...</td>\n",
              "      <td>1573631</td>\n",
              "      <td>Gilles,Mayumi,Taiki</td>\n",
              "      <td>NaN</td>\n",
              "      <td>Setagaya Ku</td>\n",
              "      <td>35.66344</td>\n",
              "      <td>139.65593</td>\n",
              "      <td>Entire home/apt</td>\n",
              "      <td>6994</td>\n",
              "      <td>29</td>\n",
              "      <td>99</td>\n",
              "      <td>2019-05-07</td>\n",
              "      <td>1.55</td>\n",
              "    </tr>\n",
              "    <tr>\n",
              "      <th>4</th>\n",
              "      <td>700253</td>\n",
              "      <td>Private apt in central Tokyo #201</td>\n",
              "      <td>341577</td>\n",
              "      <td>Hide&amp;Kei</td>\n",
              "      <td>NaN</td>\n",
              "      <td>Nerima Ku</td>\n",
              "      <td>35.74264</td>\n",
              "      <td>139.65832</td>\n",
              "      <td>Entire home/apt</td>\n",
              "      <td>3981</td>\n",
              "      <td>30</td>\n",
              "      <td>101</td>\n",
              "      <td>2019-05-03</td>\n",
              "      <td>1.24</td>\n",
              "    </tr>\n",
              "    <tr>\n",
              "      <th>...</th>\n",
              "      <td>...</td>\n",
              "      <td>...</td>\n",
              "      <td>...</td>\n",
              "      <td>...</td>\n",
              "      <td>...</td>\n",
              "      <td>...</td>\n",
              "      <td>...</td>\n",
              "      <td>...</td>\n",
              "      <td>...</td>\n",
              "      <td>...</td>\n",
              "      <td>...</td>\n",
              "      <td>...</td>\n",
              "      <td>...</td>\n",
              "      <td>...</td>\n",
              "    </tr>\n",
              "    <tr>\n",
              "      <th>11461</th>\n",
              "      <td>36083287</td>\n",
              "      <td>1min to station · Skytree/Tatami hotel/new design</td>\n",
              "      <td>235406925</td>\n",
              "      <td>Sayoko佐代子</td>\n",
              "      <td>NaN</td>\n",
              "      <td>Sumida Ku</td>\n",
              "      <td>35.70862</td>\n",
              "      <td>139.81393</td>\n",
              "      <td>Entire home/apt</td>\n",
              "      <td>21951</td>\n",
              "      <td>1</td>\n",
              "      <td>0</td>\n",
              "      <td>NaN</td>\n",
              "      <td>NaN</td>\n",
              "    </tr>\n",
              "    <tr>\n",
              "      <th>11462</th>\n",
              "      <td>36083512</td>\n",
              "      <td>Asakusa Wired house 5pax near by UENO/AKIHABARA</td>\n",
              "      <td>267481408</td>\n",
              "      <td>Hyongsu</td>\n",
              "      <td>NaN</td>\n",
              "      <td>Taito Ku</td>\n",
              "      <td>35.72464</td>\n",
              "      <td>139.78078</td>\n",
              "      <td>Entire home/apt</td>\n",
              "      <td>7747</td>\n",
              "      <td>1</td>\n",
              "      <td>0</td>\n",
              "      <td>NaN</td>\n",
              "      <td>NaN</td>\n",
              "    </tr>\n",
              "    <tr>\n",
              "      <th>11463</th>\n",
              "      <td>36084566</td>\n",
              "      <td>东京精品民宿</td>\n",
              "      <td>161702799</td>\n",
              "      <td>Yang</td>\n",
              "      <td>NaN</td>\n",
              "      <td>Toshima Ku</td>\n",
              "      <td>35.73587</td>\n",
              "      <td>139.73397</td>\n",
              "      <td>Private room</td>\n",
              "      <td>56275</td>\n",
              "      <td>1</td>\n",
              "      <td>0</td>\n",
              "      <td>NaN</td>\n",
              "      <td>NaN</td>\n",
              "    </tr>\n",
              "    <tr>\n",
              "      <th>11464</th>\n",
              "      <td>36085357</td>\n",
              "      <td>#4 DIRECT ACCESS TO DISNEY IN BUS! 3MIN TO STA...</td>\n",
              "      <td>208189463</td>\n",
              "      <td>Shotaro</td>\n",
              "      <td>NaN</td>\n",
              "      <td>Edogawa Ku</td>\n",
              "      <td>35.66255</td>\n",
              "      <td>139.87236</td>\n",
              "      <td>Entire home/apt</td>\n",
              "      <td>6456</td>\n",
              "      <td>1</td>\n",
              "      <td>0</td>\n",
              "      <td>NaN</td>\n",
              "      <td>NaN</td>\n",
              "    </tr>\n",
              "    <tr>\n",
              "      <th>11465</th>\n",
              "      <td>36086604</td>\n",
              "      <td>103号室:立地最高!駅近･買い物便利!改装したばかりの綺麗な和室です｡</td>\n",
              "      <td>254667806</td>\n",
              "      <td>新東明</td>\n",
              "      <td>NaN</td>\n",
              "      <td>Shinjuku Ku</td>\n",
              "      <td>35.69889</td>\n",
              "      <td>139.70544</td>\n",
              "      <td>Private room</td>\n",
              "      <td>7962</td>\n",
              "      <td>2</td>\n",
              "      <td>0</td>\n",
              "      <td>NaN</td>\n",
              "      <td>NaN</td>\n",
              "    </tr>\n",
              "  </tbody>\n",
              "</table>\n",
              "<p>11466 rows × 14 columns</p>\n",
              "</div>"
            ],
            "text/plain": [
              "             id  ... reviews_per_month\n",
              "0         35303  ...              0.20\n",
              "1        197677  ...              1.65\n",
              "2        289597  ...              1.25\n",
              "3        370759  ...              1.55\n",
              "4        700253  ...              1.24\n",
              "...         ...  ...               ...\n",
              "11461  36083287  ...               NaN\n",
              "11462  36083512  ...               NaN\n",
              "11463  36084566  ...               NaN\n",
              "11464  36085357  ...               NaN\n",
              "11465  36086604  ...               NaN\n",
              "\n",
              "[11466 rows x 14 columns]"
            ]
          },
          "metadata": {
            "tags": []
          },
          "execution_count": 4
        }
      ]
    },
    {
      "cell_type": "markdown",
      "metadata": {
        "id": "kzdik__f44Ok"
      },
      "source": [
        "The dataset consists of 14 columns, with different data types in each column. The data types here are float, int, and object. As seen on the data.info(), 'neighbourhood_group' has 0 non-null count, which means all of the values in that column are missing. "
      ]
    },
    {
      "cell_type": "code",
      "metadata": {
        "colab": {
          "base_uri": "https://localhost:8080/"
        },
        "id": "2dvJRJ5Rzpme",
        "outputId": "64e0d94c-16f7-443f-bbc4-0df88246f4df"
      },
      "source": [
        "data.info()"
      ],
      "execution_count": null,
      "outputs": [
        {
          "output_type": "stream",
          "text": [
            "<class 'pandas.core.frame.DataFrame'>\n",
            "RangeIndex: 11466 entries, 0 to 11465\n",
            "Data columns (total 14 columns):\n",
            " #   Column               Non-Null Count  Dtype  \n",
            "---  ------               --------------  -----  \n",
            " 0   id                   11466 non-null  int64  \n",
            " 1   name                 11466 non-null  object \n",
            " 2   host_id              11466 non-null  int64  \n",
            " 3   host_name            11450 non-null  object \n",
            " 4   neighbourhood_group  0 non-null      float64\n",
            " 5   neighbourhood        11466 non-null  object \n",
            " 6   latitude             11466 non-null  float64\n",
            " 7   longitude            11466 non-null  float64\n",
            " 8   room_type            11466 non-null  object \n",
            " 9   price                11466 non-null  int64  \n",
            " 10  minimum_nights       11466 non-null  int64  \n",
            " 11  number_of_reviews    11466 non-null  int64  \n",
            " 12  last_review          9789 non-null   object \n",
            " 13  reviews_per_month    9789 non-null   float64\n",
            "dtypes: float64(4), int64(5), object(5)\n",
            "memory usage: 1.2+ MB\n"
          ],
          "name": "stdout"
        }
      ]
    },
    {
      "cell_type": "markdown",
      "metadata": {
        "id": "xkitUcFQ54Ti"
      },
      "source": [
        "Basic statistical methods"
      ]
    },
    {
      "cell_type": "code",
      "metadata": {
        "colab": {
          "base_uri": "https://localhost:8080/"
        },
        "id": "AeLjRu-W5_Df",
        "outputId": "9ffde1c1-bb4e-434b-9551-31582ce4821d"
      },
      "source": [
        "maxVal = data.max()\n",
        "print(\"Maxium\\n\")\n",
        "print(\"Price: \", maxVal['price'])\n",
        "print(\"Number of Reviews: \", maxVal['number_of_reviews'])\n",
        "print(\"Reviews per Month: \", maxVal['reviews_per_month'])\n",
        "print(\"\\n\")\n",
        "minVal = data.min()\n",
        "print(\"Minimum\\n\")\n",
        "print(\"Price: \", minVal['price'])\n",
        "print(\"Number of Reviews: \", minVal['number_of_reviews'])\n",
        "print(\"Reviews per Month: \", minVal['reviews_per_month'])\n",
        "print(\"\\n\")\n",
        "meanVal = data.mean()\n",
        "print(\"Mean\\n\")\n",
        "print(\"Price: \", meanVal['price'])\n",
        "print(\"Number of Reviews: \", meanVal['number_of_reviews'])\n",
        "print(\"Reviews per Month: \", meanVal['reviews_per_month'])"
      ],
      "execution_count": null,
      "outputs": [
        {
          "output_type": "stream",
          "text": [
            "Maxium\n",
            "\n",
            "Price:  1000046\n",
            "Number of Reviews:  453\n",
            "Reviews per Month:  51.21\n",
            "\n",
            "\n",
            "Minimum\n",
            "\n",
            "Price:  0\n",
            "Number of Reviews:  0\n",
            "Reviews per Month:  0.04\n",
            "\n",
            "\n",
            "Mean\n",
            "\n",
            "Price:  14984.697976626549\n",
            "Number of Reviews:  26.028867957439385\n",
            "Reviews per Month:  2.262539585248754\n"
          ],
          "name": "stdout"
        }
      ]
    },
    {
      "cell_type": "markdown",
      "metadata": {
        "id": "2VmmWCdi86jt"
      },
      "source": [
        "With the help of max, min, and mean functions we are able to see the statistic of the data. "
      ]
    },
    {
      "cell_type": "markdown",
      "metadata": {
        "id": "ZGQLloUzgvr1"
      },
      "source": [
        "### 2. "
      ]
    },
    {
      "cell_type": "code",
      "metadata": {
        "id": "QsnWgHwW-Tkf"
      },
      "source": [
        "import matplotlib.pyplot as plt\n",
        "import seaborn as sb"
      ],
      "execution_count": null,
      "outputs": []
    },
    {
      "cell_type": "markdown",
      "metadata": {
        "id": "IsGlLikXhHxQ"
      },
      "source": [
        "Clean the data first"
      ]
    },
    {
      "cell_type": "markdown",
      "metadata": {
        "id": "oD8gZZDzy1xn"
      },
      "source": [
        "Before processing the data, we should clean all of the missing values in the dataset first. For instance, the column 'neighbourhood_group' have missing values in all of its row. Therefore, we should delete the column since it doesn't hold any information either. "
      ]
    },
    {
      "cell_type": "code",
      "metadata": {
        "colab": {
          "base_uri": "https://localhost:8080/"
        },
        "id": "DbI0tyLtv_Au",
        "outputId": "58ddef8a-1ef2-47f5-d359-ca0d10b9e9d2"
      },
      "source": [
        "data.isnull().sum()"
      ],
      "execution_count": null,
      "outputs": [
        {
          "output_type": "execute_result",
          "data": {
            "text/plain": [
              "id                         0\n",
              "name                       0\n",
              "host_id                    0\n",
              "host_name                 16\n",
              "neighbourhood_group    11466\n",
              "neighbourhood              0\n",
              "latitude                   0\n",
              "longitude                  0\n",
              "room_type                  0\n",
              "price                      0\n",
              "minimum_nights             0\n",
              "number_of_reviews          0\n",
              "last_review             1677\n",
              "reviews_per_month       1677\n",
              "dtype: int64"
            ]
          },
          "metadata": {
            "tags": []
          },
          "execution_count": 8
        }
      ]
    },
    {
      "cell_type": "code",
      "metadata": {
        "colab": {
          "base_uri": "https://localhost:8080/"
        },
        "id": "U6sBovN-z3Ur",
        "outputId": "10a3543a-91c7-46ea-bb72-4223baf7a78b"
      },
      "source": [
        "data.pop(\"neighbourhood_group\")"
      ],
      "execution_count": null,
      "outputs": [
        {
          "output_type": "execute_result",
          "data": {
            "text/plain": [
              "0       NaN\n",
              "1       NaN\n",
              "2       NaN\n",
              "3       NaN\n",
              "4       NaN\n",
              "         ..\n",
              "11461   NaN\n",
              "11462   NaN\n",
              "11463   NaN\n",
              "11464   NaN\n",
              "11465   NaN\n",
              "Name: neighbourhood_group, Length: 11466, dtype: float64"
            ]
          },
          "metadata": {
            "tags": []
          },
          "execution_count": 9
        }
      ]
    },
    {
      "cell_type": "code",
      "metadata": {
        "colab": {
          "base_uri": "https://localhost:8080/"
        },
        "id": "do1afKrB1Xno",
        "outputId": "ea05ffa9-c651-4f85-a207-3635291f9d35"
      },
      "source": [
        "data.shape"
      ],
      "execution_count": null,
      "outputs": [
        {
          "output_type": "execute_result",
          "data": {
            "text/plain": [
              "(11466, 13)"
            ]
          },
          "metadata": {
            "tags": []
          },
          "execution_count": 10
        }
      ]
    },
    {
      "cell_type": "markdown",
      "metadata": {
        "id": "doRD4FJS0Iy9"
      },
      "source": [
        "After dropping the 'neighbourhood_group' column, there are still two columns that hold many missing values, such as 'last_review' and 'reviews_per_month'. Therefore, the rows where both of these columns have nan values will be deleted. "
      ]
    },
    {
      "cell_type": "code",
      "metadata": {
        "id": "FE5Xpjovz8Gx"
      },
      "source": [
        "data.dropna(subset=['last_review','reviews_per_month'], how='all', inplace=True)"
      ],
      "execution_count": null,
      "outputs": []
    },
    {
      "cell_type": "code",
      "metadata": {
        "colab": {
          "base_uri": "https://localhost:8080/",
          "height": 745
        },
        "id": "AGXhxC6l2DCw",
        "outputId": "56cb5940-0419-4667-9330-e6d0f2f0d459"
      },
      "source": [
        "data"
      ],
      "execution_count": null,
      "outputs": [
        {
          "output_type": "execute_result",
          "data": {
            "text/html": [
              "<div>\n",
              "<style scoped>\n",
              "    .dataframe tbody tr th:only-of-type {\n",
              "        vertical-align: middle;\n",
              "    }\n",
              "\n",
              "    .dataframe tbody tr th {\n",
              "        vertical-align: top;\n",
              "    }\n",
              "\n",
              "    .dataframe thead th {\n",
              "        text-align: right;\n",
              "    }\n",
              "</style>\n",
              "<table border=\"1\" class=\"dataframe\">\n",
              "  <thead>\n",
              "    <tr style=\"text-align: right;\">\n",
              "      <th></th>\n",
              "      <th>id</th>\n",
              "      <th>name</th>\n",
              "      <th>host_id</th>\n",
              "      <th>host_name</th>\n",
              "      <th>neighbourhood</th>\n",
              "      <th>latitude</th>\n",
              "      <th>longitude</th>\n",
              "      <th>room_type</th>\n",
              "      <th>price</th>\n",
              "      <th>minimum_nights</th>\n",
              "      <th>number_of_reviews</th>\n",
              "      <th>last_review</th>\n",
              "      <th>reviews_per_month</th>\n",
              "    </tr>\n",
              "  </thead>\n",
              "  <tbody>\n",
              "    <tr>\n",
              "      <th>0</th>\n",
              "      <td>35303</td>\n",
              "      <td>La Casa Gaienmae C Harajuku, Omotesando is nearby</td>\n",
              "      <td>151977</td>\n",
              "      <td>Miyuki</td>\n",
              "      <td>Shibuya Ku</td>\n",
              "      <td>35.67152</td>\n",
              "      <td>139.71203</td>\n",
              "      <td>Private room</td>\n",
              "      <td>4196</td>\n",
              "      <td>28</td>\n",
              "      <td>18</td>\n",
              "      <td>2018-07-28</td>\n",
              "      <td>0.20</td>\n",
              "    </tr>\n",
              "    <tr>\n",
              "      <th>1</th>\n",
              "      <td>197677</td>\n",
              "      <td>Oshiage Holiday Apartment</td>\n",
              "      <td>964081</td>\n",
              "      <td>Yoshimi &amp; Marek</td>\n",
              "      <td>Sumida Ku</td>\n",
              "      <td>35.71721</td>\n",
              "      <td>139.82596</td>\n",
              "      <td>Entire home/apt</td>\n",
              "      <td>10975</td>\n",
              "      <td>3</td>\n",
              "      <td>156</td>\n",
              "      <td>2019-05-21</td>\n",
              "      <td>1.65</td>\n",
              "    </tr>\n",
              "    <tr>\n",
              "      <th>2</th>\n",
              "      <td>289597</td>\n",
              "      <td>Private apt in central Tokyo #203</td>\n",
              "      <td>341577</td>\n",
              "      <td>Hide&amp;Kei</td>\n",
              "      <td>Nerima Ku</td>\n",
              "      <td>35.74267</td>\n",
              "      <td>139.65810</td>\n",
              "      <td>Entire home/apt</td>\n",
              "      <td>4196</td>\n",
              "      <td>30</td>\n",
              "      <td>107</td>\n",
              "      <td>2019-05-25</td>\n",
              "      <td>1.25</td>\n",
              "    </tr>\n",
              "    <tr>\n",
              "      <th>3</th>\n",
              "      <td>370759</td>\n",
              "      <td>Cozy flat #203, local area YET 10 mins to shib...</td>\n",
              "      <td>1573631</td>\n",
              "      <td>Gilles,Mayumi,Taiki</td>\n",
              "      <td>Setagaya Ku</td>\n",
              "      <td>35.66344</td>\n",
              "      <td>139.65593</td>\n",
              "      <td>Entire home/apt</td>\n",
              "      <td>6994</td>\n",
              "      <td>29</td>\n",
              "      <td>99</td>\n",
              "      <td>2019-05-07</td>\n",
              "      <td>1.55</td>\n",
              "    </tr>\n",
              "    <tr>\n",
              "      <th>4</th>\n",
              "      <td>700253</td>\n",
              "      <td>Private apt in central Tokyo #201</td>\n",
              "      <td>341577</td>\n",
              "      <td>Hide&amp;Kei</td>\n",
              "      <td>Nerima Ku</td>\n",
              "      <td>35.74264</td>\n",
              "      <td>139.65832</td>\n",
              "      <td>Entire home/apt</td>\n",
              "      <td>3981</td>\n",
              "      <td>30</td>\n",
              "      <td>101</td>\n",
              "      <td>2019-05-03</td>\n",
              "      <td>1.24</td>\n",
              "    </tr>\n",
              "    <tr>\n",
              "      <th>...</th>\n",
              "      <td>...</td>\n",
              "      <td>...</td>\n",
              "      <td>...</td>\n",
              "      <td>...</td>\n",
              "      <td>...</td>\n",
              "      <td>...</td>\n",
              "      <td>...</td>\n",
              "      <td>...</td>\n",
              "      <td>...</td>\n",
              "      <td>...</td>\n",
              "      <td>...</td>\n",
              "      <td>...</td>\n",
              "      <td>...</td>\n",
              "    </tr>\n",
              "    <tr>\n",
              "      <th>11241</th>\n",
              "      <td>35687263</td>\n",
              "      <td>FF304 10min walk to Shinjuku sta/P-WiFi/3pax!</td>\n",
              "      <td>260311661</td>\n",
              "      <td>Yukako</td>\n",
              "      <td>Shinjuku Ku</td>\n",
              "      <td>35.69854</td>\n",
              "      <td>139.69474</td>\n",
              "      <td>Entire home/apt</td>\n",
              "      <td>14957</td>\n",
              "      <td>1</td>\n",
              "      <td>1</td>\n",
              "      <td>2019-06-22</td>\n",
              "      <td>1.00</td>\n",
              "    </tr>\n",
              "    <tr>\n",
              "      <th>11257</th>\n",
              "      <td>35696314</td>\n",
              "      <td>10 min. from Sta.:3駅(国分寺･西国分寺･恋ヶ窪)可能!wi-fi完備の静...</td>\n",
              "      <td>64271981</td>\n",
              "      <td>Osamu</td>\n",
              "      <td>Kodaira Shi</td>\n",
              "      <td>35.71626</td>\n",
              "      <td>139.46868</td>\n",
              "      <td>Private room</td>\n",
              "      <td>4950</td>\n",
              "      <td>1</td>\n",
              "      <td>1</td>\n",
              "      <td>2019-06-26</td>\n",
              "      <td>1.00</td>\n",
              "    </tr>\n",
              "    <tr>\n",
              "      <th>11316</th>\n",
              "      <td>35790338</td>\n",
              "      <td>A02 ☆Guesthouse Room･新宿ｴﾘｱ･駅から歩く4分 無料Wi-Fi</td>\n",
              "      <td>136876983</td>\n",
              "      <td>Kaoru</td>\n",
              "      <td>Shinjuku Ku</td>\n",
              "      <td>35.70348</td>\n",
              "      <td>139.69823</td>\n",
              "      <td>Entire home/apt</td>\n",
              "      <td>7317</td>\n",
              "      <td>1</td>\n",
              "      <td>1</td>\n",
              "      <td>2019-06-26</td>\n",
              "      <td>1.00</td>\n",
              "    </tr>\n",
              "    <tr>\n",
              "      <th>11324</th>\n",
              "      <td>35810682</td>\n",
              "      <td>Iriya☆|8 min|☆Asakusa&amp;Ueno☆|JR Yamanote|Max3|B2</td>\n",
              "      <td>38047329</td>\n",
              "      <td>Ruiko</td>\n",
              "      <td>Taito Ku</td>\n",
              "      <td>35.72061</td>\n",
              "      <td>139.78937</td>\n",
              "      <td>Private room</td>\n",
              "      <td>4950</td>\n",
              "      <td>1</td>\n",
              "      <td>1</td>\n",
              "      <td>2019-06-23</td>\n",
              "      <td>1.00</td>\n",
              "    </tr>\n",
              "    <tr>\n",
              "      <th>11398</th>\n",
              "      <td>35924195</td>\n",
              "      <td>Stay in Tokyo.  with garden.</td>\n",
              "      <td>238189788</td>\n",
              "      <td>You</td>\n",
              "      <td>Katsushika Ku</td>\n",
              "      <td>35.73791</td>\n",
              "      <td>139.84632</td>\n",
              "      <td>Entire home/apt</td>\n",
              "      <td>23027</td>\n",
              "      <td>1</td>\n",
              "      <td>1</td>\n",
              "      <td>2019-06-25</td>\n",
              "      <td>1.00</td>\n",
              "    </tr>\n",
              "  </tbody>\n",
              "</table>\n",
              "<p>9789 rows × 13 columns</p>\n",
              "</div>"
            ],
            "text/plain": [
              "             id  ... reviews_per_month\n",
              "0         35303  ...              0.20\n",
              "1        197677  ...              1.65\n",
              "2        289597  ...              1.25\n",
              "3        370759  ...              1.55\n",
              "4        700253  ...              1.24\n",
              "...         ...  ...               ...\n",
              "11241  35687263  ...              1.00\n",
              "11257  35696314  ...              1.00\n",
              "11316  35790338  ...              1.00\n",
              "11324  35810682  ...              1.00\n",
              "11398  35924195  ...              1.00\n",
              "\n",
              "[9789 rows x 13 columns]"
            ]
          },
          "metadata": {
            "tags": []
          },
          "execution_count": 14
        }
      ]
    },
    {
      "cell_type": "markdown",
      "metadata": {
        "id": "63x1EL6RUMMb"
      },
      "source": [
        "### Discrete and continous random variables"
      ]
    },
    {
      "cell_type": "markdown",
      "metadata": {
        "id": "3Q_LxoXqUIxe"
      },
      "source": [
        "To identify whether the values are discrete or continuous random variables, we can check the data type first. Usually, an int data type is identified as discrete variables, and float is for the continuous variables. However, sometimes discrete variable can also have float as the data type. Thus, we need to identify the variables furthermore."
      ]
    },
    {
      "cell_type": "code",
      "metadata": {
        "colab": {
          "base_uri": "https://localhost:8080/"
        },
        "id": "OVOKNqRIXJLI",
        "outputId": "959cd126-b202-47c3-c5ec-2944b6f21785"
      },
      "source": [
        "data.dtypes"
      ],
      "execution_count": null,
      "outputs": [
        {
          "output_type": "execute_result",
          "data": {
            "text/plain": [
              "id                     int64\n",
              "name                  object\n",
              "host_id                int64\n",
              "host_name             object\n",
              "neighbourhood         object\n",
              "latitude             float64\n",
              "longitude            float64\n",
              "room_type             object\n",
              "price                  int64\n",
              "minimum_nights         int64\n",
              "number_of_reviews      int64\n",
              "last_review           object\n",
              "reviews_per_month    float64\n",
              "dtype: object"
            ]
          },
          "metadata": {
            "tags": []
          },
          "execution_count": 15
        }
      ]
    },
    {
      "cell_type": "markdown",
      "metadata": {
        "id": "zJ_iuNShXbVw"
      },
      "source": [
        "Using the **.unique()** function, we can take a look at all of the possible values of the attributes and determine whether it's distinct or continous random variables."
      ]
    },
    {
      "cell_type": "markdown",
      "metadata": {
        "id": "IVQGFu5iYFdV"
      },
      "source": [
        "Variables like 'id', 'host_id', 'minimum_nights', 'price', and 'number_of_reviews'are all discrete variable because it all takes on distinct/ seperate values.  "
      ]
    },
    {
      "cell_type": "code",
      "metadata": {
        "colab": {
          "base_uri": "https://localhost:8080/"
        },
        "id": "5z7FTMqmYhCn",
        "outputId": "fc74f6d3-aa98-48f4-e5d5-3d2680759e0a"
      },
      "source": [
        "data['id'].unique()"
      ],
      "execution_count": null,
      "outputs": [
        {
          "output_type": "execute_result",
          "data": {
            "text/plain": [
              "array([   35303,   197677,   289597, ..., 35790338, 35810682, 35924195])"
            ]
          },
          "metadata": {
            "tags": []
          },
          "execution_count": 16
        }
      ]
    },
    {
      "cell_type": "code",
      "metadata": {
        "colab": {
          "base_uri": "https://localhost:8080/"
        },
        "id": "9F8p7m3fX32r",
        "outputId": "16daed54-f651-4375-8055-1afbaa51a8a6"
      },
      "source": [
        "data['minimum_nights'].unique()"
      ],
      "execution_count": null,
      "outputs": [
        {
          "output_type": "execute_result",
          "data": {
            "text/plain": [
              "array([ 28,   3,  30,  29,   1,   5,   2,   4,   7,  35,   6,  14,  31,\n",
              "        10, 180, 120,  21,  20,  32,  50,   8,  15,  60,  90,  55,  23,\n",
              "        24,  13])"
            ]
          },
          "metadata": {
            "tags": []
          },
          "execution_count": 17
        }
      ]
    },
    {
      "cell_type": "code",
      "metadata": {
        "id": "Z7KqaT0VYkDF"
      },
      "source": [
        "data['price'].unique()"
      ],
      "execution_count": null,
      "outputs": []
    },
    {
      "cell_type": "markdown",
      "metadata": {
        "id": "5DXUejwqabbE"
      },
      "source": [
        "Meanwhile, values like 'latitude', 'longitude', and 'reviews_per_month' are continuous variables because they can take on any values in a range. For instance, latitude and longitude can take up any value in the available range, with any level of specificity.  "
      ]
    },
    {
      "cell_type": "code",
      "metadata": {
        "colab": {
          "base_uri": "https://localhost:8080/"
        },
        "id": "saJ8GQVAaR2b",
        "outputId": "a1a612a3-0532-4db8-89e9-056cad93ce14"
      },
      "source": [
        "data['latitude'].unique()"
      ],
      "execution_count": null,
      "outputs": [
        {
          "output_type": "execute_result",
          "data": {
            "text/plain": [
              "array([35.67152, 35.71721, 35.74267, ..., 35.64945, 35.69854, 35.70348])"
            ]
          },
          "metadata": {
            "tags": []
          },
          "execution_count": 58
        }
      ]
    },
    {
      "cell_type": "code",
      "metadata": {
        "colab": {
          "base_uri": "https://localhost:8080/"
        },
        "id": "1q4qvQ1ib-J_",
        "outputId": "2619cb72-00ce-4974-bf5e-a60c234728b1"
      },
      "source": [
        "data['longitude'].unique()"
      ],
      "execution_count": null,
      "outputs": [
        {
          "output_type": "execute_result",
          "data": {
            "text/plain": [
              "array([139.71203, 139.82596, 139.6581 , ..., 139.46868, 139.69823,\n",
              "       139.84632])"
            ]
          },
          "metadata": {
            "tags": []
          },
          "execution_count": 59
        }
      ]
    },
    {
      "cell_type": "code",
      "metadata": {
        "id": "Qe-djDzJcLA8"
      },
      "source": [
        "data['reviews_per_month'].unique()"
      ],
      "execution_count": null,
      "outputs": []
    },
    {
      "cell_type": "markdown",
      "metadata": {
        "id": "wPXFWwGD-J1S"
      },
      "source": [
        "### Plot the data distribution"
      ]
    },
    {
      "cell_type": "code",
      "metadata": {
        "colab": {
          "base_uri": "https://localhost:8080/",
          "height": 364
        },
        "id": "RQAbZUPvUKqH",
        "outputId": "1ff3c9b0-bd69-46eb-ec86-d7566d63ad36"
      },
      "source": [
        "sb.distplot(data.price[data.room_type == 'Private room'])"
      ],
      "execution_count": null,
      "outputs": [
        {
          "output_type": "stream",
          "text": [
            "/usr/local/lib/python3.7/dist-packages/seaborn/distributions.py:2557: FutureWarning: `distplot` is a deprecated function and will be removed in a future version. Please adapt your code to use either `displot` (a figure-level function with similar flexibility) or `histplot` (an axes-level function for histograms).\n",
            "  warnings.warn(msg, FutureWarning)\n"
          ],
          "name": "stderr"
        },
        {
          "output_type": "execute_result",
          "data": {
            "text/plain": [
              "<matplotlib.axes._subplots.AxesSubplot at 0x7f1b2a2cccd0>"
            ]
          },
          "metadata": {
            "tags": []
          },
          "execution_count": 12
        },
        {
          "output_type": "display_data",
          "data": {
            "image/png": "[encoded data removed]",
            "text/plain": [
              "<Figure size 432x288 with 1 Axes>"
            ]
          },
          "metadata": {
            "tags": [],
            "needs_background": "light"
          }
        }
      ]
    },
    {
      "cell_type": "code",
      "metadata": {
        "colab": {
          "base_uri": "https://localhost:8080/",
          "height": 354
        },
        "id": "eERLPmgcfB9T",
        "outputId": "95e0b437-3cb7-45c3-cfc2-e2fb63733f2b"
      },
      "source": [
        "sb.distplot(data.reviews_per_month)"
      ],
      "execution_count": null,
      "outputs": [
        {
          "output_type": "stream",
          "text": [
            "/usr/local/lib/python3.7/dist-packages/seaborn/distributions.py:2557: FutureWarning: `distplot` is a deprecated function and will be removed in a future version. Please adapt your code to use either `displot` (a figure-level function with similar flexibility) or `histplot` (an axes-level function for histograms).\n",
            "  warnings.warn(msg, FutureWarning)\n"
          ],
          "name": "stderr"
        },
        {
          "output_type": "execute_result",
          "data": {
            "text/plain": [
              "<matplotlib.axes._subplots.AxesSubplot at 0x7f1b29a808d0>"
            ]
          },
          "metadata": {
            "tags": []
          },
          "execution_count": 13
        },
        {
          "output_type": "display_data",
          "data": {
            "image/png": "[encoded data removed]",
            "text/plain": [
              "<Figure size 432x288 with 1 Axes>"
            ]
          },
          "metadata": {
            "tags": [],
            "needs_background": "light"
          }
        }
      ]
    },
    {
      "cell_type": "code",
      "metadata": {
        "colab": {
          "base_uri": "https://localhost:8080/",
          "height": 353
        },
        "id": "VzMVOCjsfIUn",
        "outputId": "646e6035-8b28-4cd0-fce9-17701c53111a"
      },
      "source": [
        "sb.distplot(data.longitude)"
      ],
      "execution_count": null,
      "outputs": [
        {
          "output_type": "stream",
          "text": [
            "/usr/local/lib/python3.7/dist-packages/seaborn/distributions.py:2557: FutureWarning: `distplot` is a deprecated function and will be removed in a future version. Please adapt your code to use either `displot` (a figure-level function with similar flexibility) or `histplot` (an axes-level function for histograms).\n",
            "  warnings.warn(msg, FutureWarning)\n"
          ],
          "name": "stderr"
        },
        {
          "output_type": "execute_result",
          "data": {
            "text/plain": [
              "<matplotlib.axes._subplots.AxesSubplot at 0x7f61d0f4dad0>"
            ]
          },
          "metadata": {
            "tags": []
          },
          "execution_count": 71
        },
        {
          "output_type": "display_data",
          "data": {
            "image/png": "[encoded data removed]",
            "text/plain": [
              "<Figure size 432x288 with 1 Axes>"
            ]
          },
          "metadata": {
            "tags": [],
            "needs_background": "light"
          }
        }
      ]
    },
    {
      "cell_type": "markdown",
      "metadata": {
        "id": "RprkDWqrEhvC"
      },
      "source": [
        "Probability Density Function on a histogram"
      ]
    },
    {
      "cell_type": "markdown",
      "metadata": {
        "id": "u79Qp_XsEqR1"
      },
      "source": [
        "### 3."
      ]
    },
    {
      "cell_type": "markdown",
      "metadata": {
        "id": "Ou4fAtn770Rh"
      },
      "source": [
        "The variable Y can be chosen by looking at the correlation matrix below.The closest the score is to 1 or -1 the stronger the correlation are.\n",
        "'Reviews_per_month' has the strongest correlation with 'minimum_nigts' and 'number_of_reviews'.\n",
        "Therefore the predictor of Y will be minimum_nights and number_of_reviews, with 'number_of_reviews' being the positive correlation and 'minimum_nights' the negative correlation. The rest of the variables will not be chosen since they don't have high correlation score with the Y variable. "
      ]
    },
    {
      "cell_type": "code",
      "metadata": {
        "colab": {
          "base_uri": "https://localhost:8080/",
          "height": 592
        },
        "id": "c9DtxULA1plw",
        "outputId": "a48a0336-b053-4799-c67b-4e4f9bf51503"
      },
      "source": [
        "data2 = data.copy()\n",
        "#The column id and host_id will be dropped since it serves no purpose\n",
        "#in the correlation matrix\n",
        "data2.pop('id')\n",
        "data2.pop('host_id')\n",
        "plt.figure(figsize=(8,8))\n",
        "sb.heatmap(data2.corr(), annot=True)"
      ],
      "execution_count": null,
      "outputs": [
        {
          "output_type": "execute_result",
          "data": {
            "text/plain": [
              "<matplotlib.axes._subplots.AxesSubplot at 0x7fd521249610>"
            ]
          },
          "metadata": {
            "tags": []
          },
          "execution_count": 12
        },
        {
          "output_type": "display_data",
          "data": {
            "image/png": "[encoded data removed]",
            "text/plain": [
              "<Figure size 576x576 with 2 Axes>"
            ]
          },
          "metadata": {
            "tags": [],
            "needs_background": "light"
          }
        }
      ]
    },
    {
      "cell_type": "markdown",
      "metadata": {
        "id": "2-e30g9rBYau"
      },
      "source": [
        "### 4. "
      ]
    },
    {
      "cell_type": "code",
      "metadata": {
        "id": "rQvpnqVT_cnl"
      },
      "source": [
        "from sklearn.linear_model import LinearRegression\n",
        "from sklearn.model_selection import train_test_split"
      ],
      "execution_count": null,
      "outputs": []
    },
    {
      "cell_type": "markdown",
      "metadata": {
        "id": "uPtdxxpAqQWY"
      },
      "source": [
        "'Reviews_per_month' will be put into the Y variable, while 'minimum_nights' and 'number_of_reviews' will be variable X."
      ]
    },
    {
      "cell_type": "markdown",
      "metadata": {
        "id": "3OPySV0tqncg"
      },
      "source": [
        "Then prepare the data for training by using train_test_split, and the test size will be 0.4 which means the dataset will be split 40% as the test dataset. The random state will have a fixed value of 0 so that everytime it's executed, the result won't change.  "
      ]
    },
    {
      "cell_type": "code",
      "metadata": {
        "id": "qgIByG0A_Twq"
      },
      "source": [
        "X = data2[['minimum_nights','number_of_reviews']]\n",
        "Y = data2['reviews_per_month']\n",
        "X_train, X_test, Y_train, Y_test = train_test_split(X, Y, test_size=0.4,random_state=0)"
      ],
      "execution_count": null,
      "outputs": []
    },
    {
      "cell_type": "markdown",
      "metadata": {
        "id": "f6evAlBcrRxT"
      },
      "source": [
        "We'll be using Multivariate Linear Regression in this case. "
      ]
    },
    {
      "cell_type": "markdown",
      "metadata": {
        "id": "Q-MsXdBFGXGn"
      },
      "source": [
        "Train the model using the LinearRegression() function."
      ]
    },
    {
      "cell_type": "code",
      "metadata": {
        "colab": {
          "base_uri": "https://localhost:8080/"
        },
        "id": "xi3oJApgBEb8",
        "outputId": "4f17897d-6b25-487c-966e-2791b86a82b9"
      },
      "source": [
        "LinReg = LinearRegression().fit(X_train, Y_train)\n",
        "prediction = LinReg.predict(X_test)\n",
        "print(prediction)"
      ],
      "execution_count": null,
      "outputs": [
        {
          "output_type": "stream",
          "text": [
            "[2.33247739 1.52668148 1.78070963 ... 0.74377134 1.92248488 1.76537642]\n"
          ],
          "name": "stdout"
        }
      ]
    },
    {
      "cell_type": "markdown",
      "metadata": {
        "id": "iVnDjPmbGnCk"
      },
      "source": [
        "The prediction of the test set result is as shown above on the variable prediction."
      ]
    },
    {
      "cell_type": "markdown",
      "metadata": {
        "id": "mcOV9CR1rYbR"
      },
      "source": [
        "### 5. Evaluation metrics"
      ]
    },
    {
      "cell_type": "markdown",
      "metadata": {
        "id": "-RCUgSr_Lbgt"
      },
      "source": [
        "**Overfitting** means a data is feed a lot more data than necessary causing the result and accuracy to decrease. Meanwhile, **underfitting** is when the model is too biased by the pre-built structure and relationship, causing it to pay less attention to the data presented. "
      ]
    },
    {
      "cell_type": "code",
      "metadata": {
        "id": "gnwiDXwSrYFV"
      },
      "source": [
        "from sklearn.metrics import r2_score, mean_squared_error, mean_absolute_error"
      ],
      "execution_count": null,
      "outputs": []
    },
    {
      "cell_type": "markdown",
      "metadata": {
        "id": "-WcGjM7mGyyI"
      },
      "source": [
        "The best possible R2 score is 1.0, but based on the result, it showed that our model got a 0.2, which is quite low. Although it is still acceptable. As for MSE, the lower the score is the better they are. "
      ]
    },
    {
      "cell_type": "code",
      "metadata": {
        "colab": {
          "base_uri": "https://localhost:8080/"
        },
        "id": "fTCIeBC2rlBu",
        "outputId": "ada66723-7194-407f-a0a5-9a4237e1f081"
      },
      "source": [
        "print(\"Evaluation Metrics\\n\")\n",
        "print(\"R2 Score: \", r2_score(Y_test,prediction))\n",
        "print(\"MSE Score: \",mean_squared_error(Y_test, prediction))\n",
        "print(\"MAE Score: \", mean_absolute_error(Y_test, prediction))"
      ],
      "execution_count": null,
      "outputs": [
        {
          "output_type": "stream",
          "text": [
            "Evaluation Metrics\n",
            "\n",
            "R2 Score:  0.22106721021273978\n",
            "MSE Score:  2.757472428743362\n",
            "MAE Score:  1.0287360051986296\n"
          ],
          "name": "stdout"
        }
      ]
    },
    {
      "cell_type": "code",
      "metadata": {
        "colab": {
          "base_uri": "https://localhost:8080/"
        },
        "id": "l6PJ_HeWExh7",
        "outputId": "44699164-3b17-441b-ce5b-18fbc3288f4b"
      },
      "source": [
        "LinReg.predict([[3,156]])"
      ],
      "execution_count": null,
      "outputs": [
        {
          "output_type": "execute_result",
          "data": {
            "text/plain": [
              "array([5.09837895])"
            ]
          },
          "metadata": {
            "tags": []
          },
          "execution_count": 24
        }
      ]
    },
    {
      "cell_type": "markdown",
      "metadata": {
        "id": "OW3kilcr-s2H"
      },
      "source": [
        "### 6."
      ]
    },
    {
      "cell_type": "code",
      "metadata": {
        "id": "BqCUhnnkPkW_"
      },
      "source": [
        "from sklearn import linear_model"
      ],
      "execution_count": null,
      "outputs": []
    },
    {
      "cell_type": "markdown",
      "metadata": {
        "id": "rugMYCttQkD3"
      },
      "source": [
        "If the predictor of Y is ''reviews_per_month', the R2 score doesn't change much. "
      ]
    },
    {
      "cell_type": "code",
      "metadata": {
        "colab": {
          "base_uri": "https://localhost:8080/"
        },
        "id": "rLP1K_QWPbtZ",
        "outputId": "995bdef3-9697-449a-c9c3-3198eec83e41"
      },
      "source": [
        "train, test = train_test_split(data2, test_size=0.3)\n",
        "regression = linear_model.LinearRegression()\n",
        "regression.fit(train[['reviews_per_month']], train[['number_of_reviews']])\n",
        "print('Coefficients: ', regression.coef_)"
      ],
      "execution_count": null,
      "outputs": [
        {
          "output_type": "stream",
          "text": [
            "Coefficients:  [[11.16370323]]\n"
          ],
          "name": "stdout"
        }
      ]
    },
    {
      "cell_type": "code",
      "metadata": {
        "colab": {
          "base_uri": "https://localhost:8080/"
        },
        "id": "m-9Q4xnCQS8C",
        "outputId": "202aaa3e-45aa-47bc-fba2-4378f3279b0c"
      },
      "source": [
        "prediction = regression.predict(test[['reviews_per_month']])\n",
        "print(\"R2 Score: \", r2_score(test[['number_of_reviews']], prediction))"
      ],
      "execution_count": null,
      "outputs": [
        {
          "output_type": "stream",
          "text": [
            "R2 Score:  0.18393719644207707\n"
          ],
          "name": "stdout"
        }
      ]
    },
    {
      "cell_type": "markdown",
      "metadata": {
        "id": "x4I0INYvQv30"
      },
      "source": [
        "If the predictor of Y is 'minimum_nights' the R2 Score is much worse than the 'reviews_per_month''s result."
      ]
    },
    {
      "cell_type": "code",
      "metadata": {
        "colab": {
          "base_uri": "https://localhost:8080/"
        },
        "id": "7JYtdY5NRA8q",
        "outputId": "87f62dcb-6951-4f27-f046-708949db6d56"
      },
      "source": [
        "train, test = train_test_split(data2, test_size=0.3)\n",
        "regression = linear_model.LinearRegression()\n",
        "regression.fit(train[['reviews_per_month']], train[['minimum_nights']])\n",
        "print('Coefficients: ', regression.coef_)"
      ],
      "execution_count": null,
      "outputs": [
        {
          "output_type": "stream",
          "text": [
            "Coefficients:  [[-0.62689105]]\n"
          ],
          "name": "stdout"
        }
      ]
    },
    {
      "cell_type": "code",
      "metadata": {
        "colab": {
          "base_uri": "https://localhost:8080/"
        },
        "id": "kTXxleYCRJ1c",
        "outputId": "bc981bc1-e9a8-484a-d7aa-6aece555e1de"
      },
      "source": [
        "prediction = regression.predict(test[['reviews_per_month']])\n",
        "print(\"R2 Score: \", r2_score(test[['minimum_nights']], prediction))"
      ],
      "execution_count": null,
      "outputs": [
        {
          "output_type": "stream",
          "text": [
            "R2 Score:  0.02617232206824671\n"
          ],
          "name": "stdout"
        }
      ]
    },
    {
      "cell_type": "markdown",
      "metadata": {
        "id": "SOw_QaiXRpMj"
      },
      "source": [
        "Let's try 'price' as the Y predictor"
      ]
    },
    {
      "cell_type": "code",
      "metadata": {
        "id": "vbcHPnr4RoBW"
      },
      "source": [
        "train, test = train_test_split(data2, test_size=0.3)\n",
        "regression = linear_model.LinearRegression()\n",
        "regression.fit(train[['reviews_per_month']], train[['minimum_nights']])\n",
        "print('Coefficients: ', regression.coef_)"
      ],
      "execution_count": null,
      "outputs": []
    }
  ]
}