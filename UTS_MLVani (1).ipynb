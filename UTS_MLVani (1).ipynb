{
  "nbformat": 4,
  "nbformat_minor": 0,
  "metadata": {
    "colab": {
      "name": "UTS-MLVani.ipynb",
      "provenance": [],
      "collapsed_sections": []
    },
    "kernelspec": {
      "name": "python3",
      "display_name": "Python 3"
    },
    "language_info": {
      "name": "python"
    }
  },
  "cells": [
    {
      "cell_type": "markdown",
      "metadata": {
        "id": "XdCkv95HHh_C"
      },
      "source": [
        "**Name: Vanessa Giovani\n",
        "NIM: 2301887566\n",
        "Class: Machine Learning\n",
        "Class Code: LB02**"
      ]
    },
    {
      "cell_type": "markdown",
      "metadata": {
        "id": "nMjmcb7qHlJ8"
      },
      "source": [
        "1."
      ]
    },
    {
      "cell_type": "markdown",
      "metadata": {
        "id": "emXgmNnuHm0t"
      },
      "source": [
        "Import Package"
      ]
    },
    {
      "cell_type": "code",
      "metadata": {
        "id": "UeQdF_x-HbVW"
      },
      "source": [
        "import pandas as pd\n",
        "import seaborn as sb\n",
        "import matplotlib.pyplot as plt\n",
        "import numpy as np\n",
        "from sklearn import preprocessing, linear_model\n",
        "from sklearn.model_selection import train_test_split\n",
        "from sklearn.linear_model import LinearRegression\n",
        "from sklearn.metrics import r2_score, mean_squared_error, mean_absolute_error"
      ],
      "execution_count": 90,
      "outputs": []
    },
    {
      "cell_type": "code",
      "metadata": {
        "colab": {
          "base_uri": "https://localhost:8080/"
        },
        "id": "ItUYFV58Hp7S",
        "outputId": "37eb9e0c-c7ca-4937-b0b9-32130e9d6c44"
      },
      "source": [
        "!wget https://raw.githubusercontent.com/vanessagiovani/machinelearning/main/mydataset.csv"
      ],
      "execution_count": 91,
      "outputs": [
        {
          "output_type": "stream",
          "text": [
            "--2021-04-29 16:03:21--  https://raw.githubusercontent.com/vanessagiovani/machinelearning/main/mydataset.csv\n",
            "Resolving raw.githubusercontent.com (raw.githubusercontent.com)... 185.199.109.133, 185.199.111.133, 185.199.108.133, ...\n",
            "Connecting to raw.githubusercontent.com (raw.githubusercontent.com)|185.199.109.133|:443... connected.\n",
            "HTTP request sent, awaiting response... 200 OK\n",
            "Length: 1738173 (1.7M) [text/plain]\n",
            "Saving to: ‘mydataset.csv.2’\n",
            "\n",
            "mydataset.csv.2     100%[===================>]   1.66M  --.-KB/s    in 0.06s   \n",
            "\n",
            "2021-04-29 16:03:22 (26.9 MB/s) - ‘mydataset.csv.2’ saved [1738173/1738173]\n",
            "\n"
          ],
          "name": "stdout"
        }
      ]
    },
    {
      "cell_type": "code",
      "metadata": {
        "colab": {
          "base_uri": "https://localhost:8080/",
          "height": 741
        },
        "id": "noW2uPOlHuuJ",
        "outputId": "ce395f93-9586-4d00-884a-a964f5a43b08"
      },
      "source": [
        "#load data\n",
        "data = pd.read_csv(\"mydataset.csv\")\n",
        "data"
      ],
      "execution_count": 4,
      "outputs": [
        {
          "output_type": "execute_result",
          "data": {
            "text/html": [
              "<div>\n",
              "<style scoped>\n",
              "    .dataframe tbody tr th:only-of-type {\n",
              "        vertical-align: middle;\n",
              "    }\n",
              "\n",
              "    .dataframe tbody tr th {\n",
              "        vertical-align: top;\n",
              "    }\n",
              "\n",
              "    .dataframe thead th {\n",
              "        text-align: right;\n",
              "    }\n",
              "</style>\n",
              "<table border=\"1\" class=\"dataframe\">\n",
              "  <thead>\n",
              "    <tr style=\"text-align: right;\">\n",
              "      <th></th>\n",
              "      <th>id</th>\n",
              "      <th>name</th>\n",
              "      <th>host_id</th>\n",
              "      <th>host_name</th>\n",
              "      <th>neighbourhood_group</th>\n",
              "      <th>neighbourhood</th>\n",
              "      <th>latitude</th>\n",
              "      <th>longitude</th>\n",
              "      <th>room_type</th>\n",
              "      <th>price</th>\n",
              "      <th>minimum_nights</th>\n",
              "      <th>number_of_reviews</th>\n",
              "      <th>last_review</th>\n",
              "      <th>reviews_per_month</th>\n",
              "    </tr>\n",
              "  </thead>\n",
              "  <tbody>\n",
              "    <tr>\n",
              "      <th>0</th>\n",
              "      <td>35303</td>\n",
              "      <td>La Casa Gaienmae C Harajuku, Omotesando is nearby</td>\n",
              "      <td>151977</td>\n",
              "      <td>Miyuki</td>\n",
              "      <td>NaN</td>\n",
              "      <td>Shibuya Ku</td>\n",
              "      <td>35.67152</td>\n",
              "      <td>139.71203</td>\n",
              "      <td>Private room</td>\n",
              "      <td>4196</td>\n",
              "      <td>28</td>\n",
              "      <td>18</td>\n",
              "      <td>2018-07-28</td>\n",
              "      <td>0.20</td>\n",
              "    </tr>\n",
              "    <tr>\n",
              "      <th>1</th>\n",
              "      <td>197677</td>\n",
              "      <td>Oshiage Holiday Apartment</td>\n",
              "      <td>964081</td>\n",
              "      <td>Yoshimi &amp; Marek</td>\n",
              "      <td>NaN</td>\n",
              "      <td>Sumida Ku</td>\n",
              "      <td>35.71721</td>\n",
              "      <td>139.82596</td>\n",
              "      <td>Entire home/apt</td>\n",
              "      <td>10975</td>\n",
              "      <td>3</td>\n",
              "      <td>156</td>\n",
              "      <td>2019-05-21</td>\n",
              "      <td>1.65</td>\n",
              "    </tr>\n",
              "    <tr>\n",
              "      <th>2</th>\n",
              "      <td>289597</td>\n",
              "      <td>Private apt in central Tokyo #203</td>\n",
              "      <td>341577</td>\n",
              "      <td>Hide&amp;Kei</td>\n",
              "      <td>NaN</td>\n",
              "      <td>Nerima Ku</td>\n",
              "      <td>35.74267</td>\n",
              "      <td>139.65810</td>\n",
              "      <td>Entire home/apt</td>\n",
              "      <td>4196</td>\n",
              "      <td>30</td>\n",
              "      <td>107</td>\n",
              "      <td>2019-05-25</td>\n",
              "      <td>1.25</td>\n",
              "    </tr>\n",
              "    <tr>\n",
              "      <th>3</th>\n",
              "      <td>370759</td>\n",
              "      <td>Cozy flat #203, local area YET 10 mins to shib...</td>\n",
              "      <td>1573631</td>\n",
              "      <td>Gilles,Mayumi,Taiki</td>\n",
              "      <td>NaN</td>\n",
              "      <td>Setagaya Ku</td>\n",
              "      <td>35.66344</td>\n",
              "      <td>139.65593</td>\n",
              "      <td>Entire home/apt</td>\n",
              "      <td>6994</td>\n",
              "      <td>29</td>\n",
              "      <td>99</td>\n",
              "      <td>2019-05-07</td>\n",
              "      <td>1.55</td>\n",
              "    </tr>\n",
              "    <tr>\n",
              "      <th>4</th>\n",
              "      <td>700253</td>\n",
              "      <td>Private apt in central Tokyo #201</td>\n",
              "      <td>341577</td>\n",
              "      <td>Hide&amp;Kei</td>\n",
              "      <td>NaN</td>\n",
              "      <td>Nerima Ku</td>\n",
              "      <td>35.74264</td>\n",
              "      <td>139.65832</td>\n",
              "      <td>Entire home/apt</td>\n",
              "      <td>3981</td>\n",
              "      <td>30</td>\n",
              "      <td>101</td>\n",
              "      <td>2019-05-03</td>\n",
              "      <td>1.24</td>\n",
              "    </tr>\n",
              "    <tr>\n",
              "      <th>...</th>\n",
              "      <td>...</td>\n",
              "      <td>...</td>\n",
              "      <td>...</td>\n",
              "      <td>...</td>\n",
              "      <td>...</td>\n",
              "      <td>...</td>\n",
              "      <td>...</td>\n",
              "      <td>...</td>\n",
              "      <td>...</td>\n",
              "      <td>...</td>\n",
              "      <td>...</td>\n",
              "      <td>...</td>\n",
              "      <td>...</td>\n",
              "      <td>...</td>\n",
              "    </tr>\n",
              "    <tr>\n",
              "      <th>11461</th>\n",
              "      <td>36083287</td>\n",
              "      <td>1min to station · Skytree/Tatami hotel/new design</td>\n",
              "      <td>235406925</td>\n",
              "      <td>Sayoko佐代子</td>\n",
              "      <td>NaN</td>\n",
              "      <td>Sumida Ku</td>\n",
              "      <td>35.70862</td>\n",
              "      <td>139.81393</td>\n",
              "      <td>Entire home/apt</td>\n",
              "      <td>21951</td>\n",
              "      <td>1</td>\n",
              "      <td>0</td>\n",
              "      <td>NaN</td>\n",
              "      <td>NaN</td>\n",
              "    </tr>\n",
              "    <tr>\n",
              "      <th>11462</th>\n",
              "      <td>36083512</td>\n",
              "      <td>Asakusa Wired house 5pax near by UENO/AKIHABARA</td>\n",
              "      <td>267481408</td>\n",
              "      <td>Hyongsu</td>\n",
              "      <td>NaN</td>\n",
              "      <td>Taito Ku</td>\n",
              "      <td>35.72464</td>\n",
              "      <td>139.78078</td>\n",
              "      <td>Entire home/apt</td>\n",
              "      <td>7747</td>\n",
              "      <td>1</td>\n",
              "      <td>0</td>\n",
              "      <td>NaN</td>\n",
              "      <td>NaN</td>\n",
              "    </tr>\n",
              "    <tr>\n",
              "      <th>11463</th>\n",
              "      <td>36084566</td>\n",
              "      <td>东京精品民宿</td>\n",
              "      <td>161702799</td>\n",
              "      <td>Yang</td>\n",
              "      <td>NaN</td>\n",
              "      <td>Toshima Ku</td>\n",
              "      <td>35.73587</td>\n",
              "      <td>139.73397</td>\n",
              "      <td>Private room</td>\n",
              "      <td>56275</td>\n",
              "      <td>1</td>\n",
              "      <td>0</td>\n",
              "      <td>NaN</td>\n",
              "      <td>NaN</td>\n",
              "    </tr>\n",
              "    <tr>\n",
              "      <th>11464</th>\n",
              "      <td>36085357</td>\n",
              "      <td>#4 DIRECT ACCESS TO DISNEY IN BUS! 3MIN TO STA...</td>\n",
              "      <td>208189463</td>\n",
              "      <td>Shotaro</td>\n",
              "      <td>NaN</td>\n",
              "      <td>Edogawa Ku</td>\n",
              "      <td>35.66255</td>\n",
              "      <td>139.87236</td>\n",
              "      <td>Entire home/apt</td>\n",
              "      <td>6456</td>\n",
              "      <td>1</td>\n",
              "      <td>0</td>\n",
              "      <td>NaN</td>\n",
              "      <td>NaN</td>\n",
              "    </tr>\n",
              "    <tr>\n",
              "      <th>11465</th>\n",
              "      <td>36086604</td>\n",
              "      <td>103号室:立地最高!駅近･買い物便利!改装したばかりの綺麗な和室です｡</td>\n",
              "      <td>254667806</td>\n",
              "      <td>新東明</td>\n",
              "      <td>NaN</td>\n",
              "      <td>Shinjuku Ku</td>\n",
              "      <td>35.69889</td>\n",
              "      <td>139.70544</td>\n",
              "      <td>Private room</td>\n",
              "      <td>7962</td>\n",
              "      <td>2</td>\n",
              "      <td>0</td>\n",
              "      <td>NaN</td>\n",
              "      <td>NaN</td>\n",
              "    </tr>\n",
              "  </tbody>\n",
              "</table>\n",
              "<p>11466 rows × 14 columns</p>\n",
              "</div>"
            ],
            "text/plain": [
              "             id  ... reviews_per_month\n",
              "0         35303  ...              0.20\n",
              "1        197677  ...              1.65\n",
              "2        289597  ...              1.25\n",
              "3        370759  ...              1.55\n",
              "4        700253  ...              1.24\n",
              "...         ...  ...               ...\n",
              "11461  36083287  ...               NaN\n",
              "11462  36083512  ...               NaN\n",
              "11463  36084566  ...               NaN\n",
              "11464  36085357  ...               NaN\n",
              "11465  36086604  ...               NaN\n",
              "\n",
              "[11466 rows x 14 columns]"
            ]
          },
          "metadata": {
            "tags": []
          },
          "execution_count": 4
        }
      ]
    },
    {
      "cell_type": "code",
      "metadata": {
        "colab": {
          "base_uri": "https://localhost:8080/",
          "height": 690
        },
        "id": "BFxOXyAU5YYr",
        "outputId": "c66dc5f3-a11a-4fe9-816e-cc3b02d1d47a"
      },
      "source": [
        "#data profiling\n",
        "print(data.info())\n",
        "print(data.isna().values.any())\n",
        "\n",
        "data.describe()"
      ],
      "execution_count": 7,
      "outputs": [
        {
          "output_type": "stream",
          "text": [
            "<class 'pandas.core.frame.DataFrame'>\n",
            "RangeIndex: 11466 entries, 0 to 11465\n",
            "Data columns (total 14 columns):\n",
            " #   Column               Non-Null Count  Dtype  \n",
            "---  ------               --------------  -----  \n",
            " 0   id                   11466 non-null  int64  \n",
            " 1   name                 11466 non-null  object \n",
            " 2   host_id              11466 non-null  int64  \n",
            " 3   host_name            11450 non-null  object \n",
            " 4   neighbourhood_group  0 non-null      float64\n",
            " 5   neighbourhood        11466 non-null  object \n",
            " 6   latitude             11466 non-null  float64\n",
            " 7   longitude            11466 non-null  float64\n",
            " 8   room_type            11466 non-null  object \n",
            " 9   price                11466 non-null  int64  \n",
            " 10  minimum_nights       11466 non-null  int64  \n",
            " 11  number_of_reviews    11466 non-null  int64  \n",
            " 12  last_review          9789 non-null   object \n",
            " 13  reviews_per_month    9789 non-null   float64\n",
            "dtypes: float64(4), int64(5), object(5)\n",
            "memory usage: 1.2+ MB\n",
            "None\n",
            "True\n"
          ],
          "name": "stdout"
        },
        {
          "output_type": "execute_result",
          "data": {
            "text/html": [
              "<div>\n",
              "<style scoped>\n",
              "    .dataframe tbody tr th:only-of-type {\n",
              "        vertical-align: middle;\n",
              "    }\n",
              "\n",
              "    .dataframe tbody tr th {\n",
              "        vertical-align: top;\n",
              "    }\n",
              "\n",
              "    .dataframe thead th {\n",
              "        text-align: right;\n",
              "    }\n",
              "</style>\n",
              "<table border=\"1\" class=\"dataframe\">\n",
              "  <thead>\n",
              "    <tr style=\"text-align: right;\">\n",
              "      <th></th>\n",
              "      <th>id</th>\n",
              "      <th>host_id</th>\n",
              "      <th>neighbourhood_group</th>\n",
              "      <th>latitude</th>\n",
              "      <th>longitude</th>\n",
              "      <th>price</th>\n",
              "      <th>minimum_nights</th>\n",
              "      <th>number_of_reviews</th>\n",
              "      <th>reviews_per_month</th>\n",
              "    </tr>\n",
              "  </thead>\n",
              "  <tbody>\n",
              "    <tr>\n",
              "      <th>count</th>\n",
              "      <td>1.146600e+04</td>\n",
              "      <td>1.146600e+04</td>\n",
              "      <td>0.0</td>\n",
              "      <td>11466.000000</td>\n",
              "      <td>11466.000000</td>\n",
              "      <td>1.146600e+04</td>\n",
              "      <td>11466.000000</td>\n",
              "      <td>11466.000000</td>\n",
              "      <td>9789.000000</td>\n",
              "    </tr>\n",
              "    <tr>\n",
              "      <th>mean</th>\n",
              "      <td>2.640545e+07</td>\n",
              "      <td>1.399776e+08</td>\n",
              "      <td>NaN</td>\n",
              "      <td>35.687159</td>\n",
              "      <td>139.734537</td>\n",
              "      <td>1.498470e+04</td>\n",
              "      <td>3.316239</td>\n",
              "      <td>26.028868</td>\n",
              "      <td>2.262540</td>\n",
              "    </tr>\n",
              "    <tr>\n",
              "      <th>std</th>\n",
              "      <td>7.565212e+06</td>\n",
              "      <td>8.064289e+07</td>\n",
              "      <td>NaN</td>\n",
              "      <td>0.217853</td>\n",
              "      <td>0.092771</td>\n",
              "      <td>3.327345e+04</td>\n",
              "      <td>7.766766</td>\n",
              "      <td>38.455449</td>\n",
              "      <td>1.744004</td>\n",
              "    </tr>\n",
              "    <tr>\n",
              "      <th>min</th>\n",
              "      <td>3.530300e+04</td>\n",
              "      <td>1.519770e+05</td>\n",
              "      <td>NaN</td>\n",
              "      <td>27.072330</td>\n",
              "      <td>139.130020</td>\n",
              "      <td>0.000000e+00</td>\n",
              "      <td>1.000000</td>\n",
              "      <td>0.000000</td>\n",
              "      <td>0.040000</td>\n",
              "    </tr>\n",
              "    <tr>\n",
              "      <th>25%</th>\n",
              "      <td>2.215251e+07</td>\n",
              "      <td>5.783171e+07</td>\n",
              "      <td>NaN</td>\n",
              "      <td>35.679620</td>\n",
              "      <td>139.698975</td>\n",
              "      <td>6.026000e+03</td>\n",
              "      <td>1.000000</td>\n",
              "      <td>2.000000</td>\n",
              "      <td>1.000000</td>\n",
              "    </tr>\n",
              "    <tr>\n",
              "      <th>50%</th>\n",
              "      <td>2.841873e+07</td>\n",
              "      <td>1.502326e+08</td>\n",
              "      <td>NaN</td>\n",
              "      <td>35.701910</td>\n",
              "      <td>139.729165</td>\n",
              "      <td>1.000700e+04</td>\n",
              "      <td>1.000000</td>\n",
              "      <td>12.000000</td>\n",
              "      <td>2.060000</td>\n",
              "    </tr>\n",
              "    <tr>\n",
              "      <th>75%</th>\n",
              "      <td>3.222416e+07</td>\n",
              "      <td>2.135896e+08</td>\n",
              "      <td>NaN</td>\n",
              "      <td>35.724215</td>\n",
              "      <td>139.784270</td>\n",
              "      <td>1.721600e+04</td>\n",
              "      <td>2.000000</td>\n",
              "      <td>32.000000</td>\n",
              "      <td>3.170000</td>\n",
              "    </tr>\n",
              "    <tr>\n",
              "      <th>max</th>\n",
              "      <td>3.608660e+07</td>\n",
              "      <td>2.714130e+08</td>\n",
              "      <td>NaN</td>\n",
              "      <td>35.832430</td>\n",
              "      <td>142.202880</td>\n",
              "      <td>1.000046e+06</td>\n",
              "      <td>180.000000</td>\n",
              "      <td>453.000000</td>\n",
              "      <td>51.210000</td>\n",
              "    </tr>\n",
              "  </tbody>\n",
              "</table>\n",
              "</div>"
            ],
            "text/plain": [
              "                 id       host_id  ...  number_of_reviews  reviews_per_month\n",
              "count  1.146600e+04  1.146600e+04  ...       11466.000000        9789.000000\n",
              "mean   2.640545e+07  1.399776e+08  ...          26.028868           2.262540\n",
              "std    7.565212e+06  8.064289e+07  ...          38.455449           1.744004\n",
              "min    3.530300e+04  1.519770e+05  ...           0.000000           0.040000\n",
              "25%    2.215251e+07  5.783171e+07  ...           2.000000           1.000000\n",
              "50%    2.841873e+07  1.502326e+08  ...          12.000000           2.060000\n",
              "75%    3.222416e+07  2.135896e+08  ...          32.000000           3.170000\n",
              "max    3.608660e+07  2.714130e+08  ...         453.000000          51.210000\n",
              "\n",
              "[8 rows x 9 columns]"
            ]
          },
          "metadata": {
            "tags": []
          },
          "execution_count": 7
        }
      ]
    },
    {
      "cell_type": "markdown",
      "metadata": {
        "id": "sstZvhcjOSkt"
      },
      "source": [
        "2."
      ]
    },
    {
      "cell_type": "code",
      "metadata": {
        "id": "RZVEpWVt-8i_"
      },
      "source": [
        "data.pop(\"neighbourhood_group\")"
      ],
      "execution_count": null,
      "outputs": []
    },
    {
      "cell_type": "code",
      "metadata": {
        "colab": {
          "base_uri": "https://localhost:8080/"
        },
        "id": "aeZSyxjUI4pE",
        "outputId": "ac09f709-e0f7-49e5-cdcc-2f5cd5530685"
      },
      "source": [
        "for i in data:\n",
        "  print(i, data[i].isna().values.any())\n",
        "  #host_id, neighbourhood_group, reviews_per"
      ],
      "execution_count": 20,
      "outputs": [
        {
          "output_type": "stream",
          "text": [
            "id False\n",
            "name False\n",
            "host_id False\n",
            "host_name False\n",
            "neighbourhood False\n",
            "latitude False\n",
            "longitude False\n",
            "room_type False\n",
            "price False\n",
            "minimum_nights False\n",
            "number_of_reviews False\n",
            "last_review False\n",
            "reviews_per_month False\n"
          ],
          "name": "stdout"
        }
      ]
    },
    {
      "cell_type": "code",
      "metadata": {
        "colab": {
          "base_uri": "https://localhost:8080/"
        },
        "id": "v_vaOr_qAhrZ",
        "outputId": "d41ac4fe-8183-454c-cb89-d117efb19f47"
      },
      "source": [
        "meanhost_id = data[\"host_id\"].mean()\n",
        "data[\"host_id\"].fillna(meanhost_id)"
      ],
      "execution_count": 22,
      "outputs": [
        {
          "output_type": "execute_result",
          "data": {
            "text/plain": [
              "0           151977\n",
              "1           964081\n",
              "2           341577\n",
              "3          1573631\n",
              "4           341577\n",
              "           ...    \n",
              "11461    235406925\n",
              "11462    267481408\n",
              "11463    161702799\n",
              "11464    208189463\n",
              "11465    254667806\n",
              "Name: host_id, Length: 11466, dtype: int64"
            ]
          },
          "metadata": {
            "tags": []
          },
          "execution_count": 22
        }
      ]
    },
    {
      "cell_type": "code",
      "metadata": {
        "colab": {
          "base_uri": "https://localhost:8080/"
        },
        "id": "MnlObwsnB8aq",
        "outputId": "5a92d32e-98a3-42c9-bca7-cba92711404a"
      },
      "source": [
        "meanreviews_per_month = data[\"reviews_per_month\"].mean()\n",
        "data[\"reviews_per_month\"].fillna(meanreviews_per_month)"
      ],
      "execution_count": 23,
      "outputs": [
        {
          "output_type": "execute_result",
          "data": {
            "text/plain": [
              "0        0.20\n",
              "1        1.65\n",
              "2        1.25\n",
              "3        1.55\n",
              "4        1.24\n",
              "         ... \n",
              "11461    0.00\n",
              "11462    0.00\n",
              "11463    0.00\n",
              "11464    0.00\n",
              "11465    0.00\n",
              "Name: reviews_per_month, Length: 11466, dtype: float64"
            ]
          },
          "metadata": {
            "tags": []
          },
          "execution_count": 23
        }
      ]
    },
    {
      "cell_type": "code",
      "metadata": {
        "colab": {
          "base_uri": "https://localhost:8080/",
          "height": 741
        },
        "id": "Y9JIqWREB-KF",
        "outputId": "37571e08-a7b1-4888-83d6-875132bdbda8"
      },
      "source": [
        "data"
      ],
      "execution_count": 24,
      "outputs": [
        {
          "output_type": "execute_result",
          "data": {
            "text/html": [
              "<div>\n",
              "<style scoped>\n",
              "    .dataframe tbody tr th:only-of-type {\n",
              "        vertical-align: middle;\n",
              "    }\n",
              "\n",
              "    .dataframe tbody tr th {\n",
              "        vertical-align: top;\n",
              "    }\n",
              "\n",
              "    .dataframe thead th {\n",
              "        text-align: right;\n",
              "    }\n",
              "</style>\n",
              "<table border=\"1\" class=\"dataframe\">\n",
              "  <thead>\n",
              "    <tr style=\"text-align: right;\">\n",
              "      <th></th>\n",
              "      <th>id</th>\n",
              "      <th>name</th>\n",
              "      <th>host_id</th>\n",
              "      <th>host_name</th>\n",
              "      <th>neighbourhood</th>\n",
              "      <th>latitude</th>\n",
              "      <th>longitude</th>\n",
              "      <th>room_type</th>\n",
              "      <th>price</th>\n",
              "      <th>minimum_nights</th>\n",
              "      <th>number_of_reviews</th>\n",
              "      <th>last_review</th>\n",
              "      <th>reviews_per_month</th>\n",
              "    </tr>\n",
              "  </thead>\n",
              "  <tbody>\n",
              "    <tr>\n",
              "      <th>0</th>\n",
              "      <td>35303</td>\n",
              "      <td>La Casa Gaienmae C Harajuku, Omotesando is nearby</td>\n",
              "      <td>151977</td>\n",
              "      <td>Miyuki</td>\n",
              "      <td>Shibuya Ku</td>\n",
              "      <td>35.67152</td>\n",
              "      <td>139.71203</td>\n",
              "      <td>Private room</td>\n",
              "      <td>4196</td>\n",
              "      <td>28</td>\n",
              "      <td>18</td>\n",
              "      <td>2018-07-28</td>\n",
              "      <td>0.20</td>\n",
              "    </tr>\n",
              "    <tr>\n",
              "      <th>1</th>\n",
              "      <td>197677</td>\n",
              "      <td>Oshiage Holiday Apartment</td>\n",
              "      <td>964081</td>\n",
              "      <td>Yoshimi &amp; Marek</td>\n",
              "      <td>Sumida Ku</td>\n",
              "      <td>35.71721</td>\n",
              "      <td>139.82596</td>\n",
              "      <td>Entire home/apt</td>\n",
              "      <td>10975</td>\n",
              "      <td>3</td>\n",
              "      <td>156</td>\n",
              "      <td>2019-05-21</td>\n",
              "      <td>1.65</td>\n",
              "    </tr>\n",
              "    <tr>\n",
              "      <th>2</th>\n",
              "      <td>289597</td>\n",
              "      <td>Private apt in central Tokyo #203</td>\n",
              "      <td>341577</td>\n",
              "      <td>Hide&amp;Kei</td>\n",
              "      <td>Nerima Ku</td>\n",
              "      <td>35.74267</td>\n",
              "      <td>139.65810</td>\n",
              "      <td>Entire home/apt</td>\n",
              "      <td>4196</td>\n",
              "      <td>30</td>\n",
              "      <td>107</td>\n",
              "      <td>2019-05-25</td>\n",
              "      <td>1.25</td>\n",
              "    </tr>\n",
              "    <tr>\n",
              "      <th>3</th>\n",
              "      <td>370759</td>\n",
              "      <td>Cozy flat #203, local area YET 10 mins to shib...</td>\n",
              "      <td>1573631</td>\n",
              "      <td>Gilles,Mayumi,Taiki</td>\n",
              "      <td>Setagaya Ku</td>\n",
              "      <td>35.66344</td>\n",
              "      <td>139.65593</td>\n",
              "      <td>Entire home/apt</td>\n",
              "      <td>6994</td>\n",
              "      <td>29</td>\n",
              "      <td>99</td>\n",
              "      <td>2019-05-07</td>\n",
              "      <td>1.55</td>\n",
              "    </tr>\n",
              "    <tr>\n",
              "      <th>4</th>\n",
              "      <td>700253</td>\n",
              "      <td>Private apt in central Tokyo #201</td>\n",
              "      <td>341577</td>\n",
              "      <td>Hide&amp;Kei</td>\n",
              "      <td>Nerima Ku</td>\n",
              "      <td>35.74264</td>\n",
              "      <td>139.65832</td>\n",
              "      <td>Entire home/apt</td>\n",
              "      <td>3981</td>\n",
              "      <td>30</td>\n",
              "      <td>101</td>\n",
              "      <td>2019-05-03</td>\n",
              "      <td>1.24</td>\n",
              "    </tr>\n",
              "    <tr>\n",
              "      <th>...</th>\n",
              "      <td>...</td>\n",
              "      <td>...</td>\n",
              "      <td>...</td>\n",
              "      <td>...</td>\n",
              "      <td>...</td>\n",
              "      <td>...</td>\n",
              "      <td>...</td>\n",
              "      <td>...</td>\n",
              "      <td>...</td>\n",
              "      <td>...</td>\n",
              "      <td>...</td>\n",
              "      <td>...</td>\n",
              "      <td>...</td>\n",
              "    </tr>\n",
              "    <tr>\n",
              "      <th>11461</th>\n",
              "      <td>36083287</td>\n",
              "      <td>1min to station · Skytree/Tatami hotel/new design</td>\n",
              "      <td>235406925</td>\n",
              "      <td>Sayoko佐代子</td>\n",
              "      <td>Sumida Ku</td>\n",
              "      <td>35.70862</td>\n",
              "      <td>139.81393</td>\n",
              "      <td>Entire home/apt</td>\n",
              "      <td>21951</td>\n",
              "      <td>1</td>\n",
              "      <td>0</td>\n",
              "      <td>0</td>\n",
              "      <td>0.00</td>\n",
              "    </tr>\n",
              "    <tr>\n",
              "      <th>11462</th>\n",
              "      <td>36083512</td>\n",
              "      <td>Asakusa Wired house 5pax near by UENO/AKIHABARA</td>\n",
              "      <td>267481408</td>\n",
              "      <td>Hyongsu</td>\n",
              "      <td>Taito Ku</td>\n",
              "      <td>35.72464</td>\n",
              "      <td>139.78078</td>\n",
              "      <td>Entire home/apt</td>\n",
              "      <td>7747</td>\n",
              "      <td>1</td>\n",
              "      <td>0</td>\n",
              "      <td>0</td>\n",
              "      <td>0.00</td>\n",
              "    </tr>\n",
              "    <tr>\n",
              "      <th>11463</th>\n",
              "      <td>36084566</td>\n",
              "      <td>东京精品民宿</td>\n",
              "      <td>161702799</td>\n",
              "      <td>Yang</td>\n",
              "      <td>Toshima Ku</td>\n",
              "      <td>35.73587</td>\n",
              "      <td>139.73397</td>\n",
              "      <td>Private room</td>\n",
              "      <td>56275</td>\n",
              "      <td>1</td>\n",
              "      <td>0</td>\n",
              "      <td>0</td>\n",
              "      <td>0.00</td>\n",
              "    </tr>\n",
              "    <tr>\n",
              "      <th>11464</th>\n",
              "      <td>36085357</td>\n",
              "      <td>#4 DIRECT ACCESS TO DISNEY IN BUS! 3MIN TO STA...</td>\n",
              "      <td>208189463</td>\n",
              "      <td>Shotaro</td>\n",
              "      <td>Edogawa Ku</td>\n",
              "      <td>35.66255</td>\n",
              "      <td>139.87236</td>\n",
              "      <td>Entire home/apt</td>\n",
              "      <td>6456</td>\n",
              "      <td>1</td>\n",
              "      <td>0</td>\n",
              "      <td>0</td>\n",
              "      <td>0.00</td>\n",
              "    </tr>\n",
              "    <tr>\n",
              "      <th>11465</th>\n",
              "      <td>36086604</td>\n",
              "      <td>103号室:立地最高!駅近･買い物便利!改装したばかりの綺麗な和室です｡</td>\n",
              "      <td>254667806</td>\n",
              "      <td>新東明</td>\n",
              "      <td>Shinjuku Ku</td>\n",
              "      <td>35.69889</td>\n",
              "      <td>139.70544</td>\n",
              "      <td>Private room</td>\n",
              "      <td>7962</td>\n",
              "      <td>2</td>\n",
              "      <td>0</td>\n",
              "      <td>0</td>\n",
              "      <td>0.00</td>\n",
              "    </tr>\n",
              "  </tbody>\n",
              "</table>\n",
              "<p>11466 rows × 13 columns</p>\n",
              "</div>"
            ],
            "text/plain": [
              "             id  ... reviews_per_month\n",
              "0         35303  ...              0.20\n",
              "1        197677  ...              1.65\n",
              "2        289597  ...              1.25\n",
              "3        370759  ...              1.55\n",
              "4        700253  ...              1.24\n",
              "...         ...  ...               ...\n",
              "11461  36083287  ...              0.00\n",
              "11462  36083512  ...              0.00\n",
              "11463  36084566  ...              0.00\n",
              "11464  36085357  ...              0.00\n",
              "11465  36086604  ...              0.00\n",
              "\n",
              "[11466 rows x 13 columns]"
            ]
          },
          "metadata": {
            "tags": []
          },
          "execution_count": 24
        }
      ]
    },
    {
      "cell_type": "markdown",
      "metadata": {
        "id": "4BLVzZvVCYmK"
      },
      "source": [
        "Identify Discrete and Continuous Variables"
      ]
    },
    {
      "cell_type": "code",
      "metadata": {
        "colab": {
          "base_uri": "https://localhost:8080/"
        },
        "id": "BWFa-64PCXhq",
        "outputId": "86667445-9e03-44f9-c46f-81aa706591c3"
      },
      "source": [
        "print(data.info())\n",
        "print(data.isna().values.any())"
      ],
      "execution_count": 28,
      "outputs": [
        {
          "output_type": "stream",
          "text": [
            "<class 'pandas.core.frame.DataFrame'>\n",
            "RangeIndex: 11466 entries, 0 to 11465\n",
            "Data columns (total 13 columns):\n",
            " #   Column             Non-Null Count  Dtype  \n",
            "---  ------             --------------  -----  \n",
            " 0   id                 11466 non-null  int64  \n",
            " 1   name               11466 non-null  object \n",
            " 2   host_id            11466 non-null  int64  \n",
            " 3   host_name          11466 non-null  object \n",
            " 4   neighbourhood      11466 non-null  object \n",
            " 5   latitude           11466 non-null  float64\n",
            " 6   longitude          11466 non-null  float64\n",
            " 7   room_type          11466 non-null  object \n",
            " 8   price              11466 non-null  int64  \n",
            " 9   minimum_nights     11466 non-null  int64  \n",
            " 10  number_of_reviews  11466 non-null  int64  \n",
            " 11  last_review        11466 non-null  object \n",
            " 12  reviews_per_month  11466 non-null  float64\n",
            "dtypes: float64(3), int64(5), object(5)\n",
            "memory usage: 1.1+ MB\n",
            "None\n",
            "False\n"
          ],
          "name": "stdout"
        }
      ]
    },
    {
      "cell_type": "markdown",
      "metadata": {
        "id": "IITsATZ3DpTR"
      },
      "source": [
        "*Discrete Variables*"
      ]
    },
    {
      "cell_type": "code",
      "metadata": {
        "colab": {
          "base_uri": "https://localhost:8080/"
        },
        "id": "PCa_HDAsC8w0",
        "outputId": "dd0c1c55-b796-445f-edc7-68b1ab0b5664"
      },
      "source": [
        "data['id'].unique()"
      ],
      "execution_count": 32,
      "outputs": [
        {
          "output_type": "execute_result",
          "data": {
            "text/plain": [
              "array([   35303,   197677,   289597, ..., 36084566, 36085357, 36086604])"
            ]
          },
          "metadata": {
            "tags": []
          },
          "execution_count": 32
        }
      ]
    },
    {
      "cell_type": "code",
      "metadata": {
        "colab": {
          "base_uri": "https://localhost:8080/"
        },
        "id": "H2KXaRMxDMIp",
        "outputId": "d0c4c762-fbf6-4797-c905-0bb45335585a"
      },
      "source": [
        "data['host_id'].unique()"
      ],
      "execution_count": 33,
      "outputs": [
        {
          "output_type": "execute_result",
          "data": {
            "text/plain": [
              "array([   151977,    964081,    341577, ..., 267308886, 271413041,\n",
              "        51517847])"
            ]
          },
          "metadata": {
            "tags": []
          },
          "execution_count": 33
        }
      ]
    },
    {
      "cell_type": "code",
      "metadata": {
        "colab": {
          "base_uri": "https://localhost:8080/"
        },
        "id": "hFOKVnKMDPcO",
        "outputId": "90bf16fd-2d0f-4110-b782-cea53a3dbe67"
      },
      "source": [
        "data['price'].unique()"
      ],
      "execution_count": 34,
      "outputs": [
        {
          "output_type": "execute_result",
          "data": {
            "text/plain": [
              "array([   4196,   10975,    6994,    3981,    6456,    9469,    5165,\n",
              "          9684,    6564,    8500,    3551,   31958,   12374,    7747,\n",
              "         13020,   27976,   30021,    3228,    2152,   12051,    6026,\n",
              "          3336,   12912,   13450,    9146,   13988,    7962,    8608,\n",
              "         14957,   69510,   79948,   16463,   27008,    1506,    9361,\n",
              "          5488,   12805,   19045,   29052,    5380,   10007,   13127,\n",
              "          5057,    4519,    5810,    4950,    3874,   47775,   30989,\n",
              "          8070,   20552,   35078,    4842,   10437,   10760,   24963,\n",
              "         40028,   17001,    3658,    6779,    3443,   21520,   22811,\n",
              "          4089,   20444,   50035,    7532,    4412,   11836,   16033,\n",
              "         23672,   12482,   20014,   26039,   34863,    5918,   33679,\n",
              "          5272,    9039,    3013,    7317,    2367,   34970,    2905,\n",
              "          2044,    6886,   19476,    2260,   15064,    4734,   17969,\n",
              "          4304,   23027,   10653,   17647,   32280,   21951,    9792,\n",
              "         16786,   18507,   22596,    7102,    2582,    3766,   22919,\n",
              "         13881,   17216,    8285,    2475,   19368,    8823,   15279,\n",
              "         16893,    9254,    7855,   23457,    2690,   16140,   15602,\n",
              "        128045,   11298,   11513,   14526,   15495,   24210,   24748,\n",
              "          9899,   11729,   34755,    7424,    7640,    6671,    6348,\n",
              "          4627,    1829,   17109,   26900,    6133,    9577,   16248,\n",
              "          1399,   37983,    2798,    8178,   18292,   11191,   19799,\n",
              "         10115,   99962,   34002,   35508,   33034,   36477,   26793,\n",
              "         25824,    6241,   38952,   22381,   32173,   10545,    8931,\n",
              "         20982,    5703,   18830,    7209,   44977,   15925,   12159,\n",
              "         12267,   17539,   36046, 1000046,    1184,   23995,   54984,\n",
              "        749980,  299992,    8716,   27869,   29806,   11944,   41964,\n",
              "          1614,   14741,   22489,    1937,   14849,   18938,   13343,\n",
              "         47990,    5595,   31204,   57997,   95980,   14311,   43040,\n",
              "         18077,   16678,   21305,   17324,   30128,  105019,   24533,\n",
              "         89955,   46807,   22704,   21843,   80701,    3120,   45193,\n",
              "         48421,    1076,   38736,   33249,   17754,   52079,   35831,\n",
              "         40888,   11083,    8393,   23349,   34648,   10330,  139989,\n",
              "         13235,  200031,   23887,   10222,   27654,   49819,   23780,\n",
              "         23134,   25609,   12589,   37876,   32926,   26255,   25179,\n",
              "         14634,   13773,   18400,   35186,       0,   19906,   32818,\n",
              "         16355,   21628,   30451,   27546,   20229,   33356,   13665,\n",
              "         33787,   62409,   15172,   27438,   20659,   11621,   23565,\n",
              "         12697,   49927,   28837,   60041,   17862,   19153,   64561,\n",
              "         10868,   38521,   20767,   37015,   86081,   38844,   15817,\n",
              "         34540,   32388,   21197,   31312,   26685,   55092,   11406,\n",
              "         25932,   75966,   43148,   71985,   19583,   27761,   74568,\n",
              "         13558,  249958,   44762,   27223,   39812,   26578,   26362,\n",
              "         47022,   57029,   48959,   24856,   78979,   34432,   28084,\n",
              "         24425,   31850,   35939,   42718,   34110,  211652,  689509,\n",
              "         18185,   16571,   79840,   29483,   52509,   85005,   26470,\n",
              "         14096,   15710,   28945,   39167,   51971,  392206,   43578,\n",
              "         25501,   28514,   27331,   32603,   44009,   30774,   31527,\n",
              "         21735,   15387,   64023,   25286,   14419,   74998,   28730,\n",
              "         28299,   68004,   70048,   17431,   88018,    1722,   22273,\n",
              "         36692,   14203,   25071,   55953,  149996,   29590,   21413,\n",
              "        103297,   18723,   37338,   22058,   29913,   36800,   18615,\n",
              "         34325,   38198,   63485,   29698,   89201,   90062,  129121,\n",
              "         43794,   82961,   25717,   39490,   30559,  899977,   56275])"
            ]
          },
          "metadata": {
            "tags": []
          },
          "execution_count": 34
        }
      ]
    },
    {
      "cell_type": "code",
      "metadata": {
        "colab": {
          "base_uri": "https://localhost:8080/"
        },
        "id": "TJ9KfxgPDVom",
        "outputId": "e8a16fa9-e59c-4dc5-817a-fcc6dca05d0a"
      },
      "source": [
        "data['minimum_nights'].unique()"
      ],
      "execution_count": 35,
      "outputs": [
        {
          "output_type": "execute_result",
          "data": {
            "text/plain": [
              "array([ 28,   3,  30,  29,   1,   5,   2,   4,   7,  35,   6,  14,  31,\n",
              "        10, 180, 120,  21,  20,  32,  50,   8,  15,  60,  90,  55,  23,\n",
              "        24,  13, 179,  26])"
            ]
          },
          "metadata": {
            "tags": []
          },
          "execution_count": 35
        }
      ]
    },
    {
      "cell_type": "code",
      "metadata": {
        "colab": {
          "base_uri": "https://localhost:8080/"
        },
        "id": "hbjzpibNDdzh",
        "outputId": "47209e76-0de2-4eae-a224-59941bdb24f1"
      },
      "source": [
        "data['number_of_reviews'].unique()"
      ],
      "execution_count": 36,
      "outputs": [
        {
          "output_type": "execute_result",
          "data": {
            "text/plain": [
              "array([ 18, 156, 107,  99, 101, 215,  41,  90, 175,  85, 200, 233,  73,\n",
              "        86, 127,  49, 306, 144, 197, 218, 213, 271, 147, 118, 151, 124,\n",
              "         5,  71, 274,  22,   0,  17, 160,   7,  14,  70,  78, 140,  67,\n",
              "       183,  27,  62,   6,   3, 103, 105,  50, 138, 109,  77, 296,  44,\n",
              "       113,  89, 119,  55,  54, 141,  58,  76,  34,  42,  10,  25, 188,\n",
              "       187,  63, 251, 167,  82, 110,  30,  53, 120,  39, 171, 417,  66,\n",
              "       112, 293, 180,  21,  19,  11,  43,  32, 239, 208, 219,  28,  15,\n",
              "        47,  37, 130, 223, 194, 177, 166, 106, 173, 255, 235, 134, 211,\n",
              "       244, 212,  87,  38,   4,  69, 182,   2, 117,  75, 164,  97, 207,\n",
              "        74,  26,  52, 121, 265,  94,  23,  12,  72, 181, 169,  13,   8,\n",
              "         9, 178, 168, 172, 135, 128, 184, 259,  36,  46, 163, 123, 158,\n",
              "        64,  60, 230, 203, 179,  84, 149, 243, 199,  35,  40, 206,  93,\n",
              "       100, 115, 133,  24, 143,  29,  98, 191, 131, 246, 125, 136, 224,\n",
              "       238, 228, 176, 262, 409, 198,  33,  56,  20, 222, 229, 209, 142,\n",
              "        80,  31,  59, 210, 190, 189, 122, 204, 195,  57, 108, 137,  68,\n",
              "        65, 232, 253,  88, 193, 154, 155,  48, 116, 161, 205,   1, 192,\n",
              "       146, 132, 114, 150, 104, 231,  95,  61, 111,  96,  16, 185, 129,\n",
              "        91,  45,  92, 202, 148, 221,  51, 157, 153,  83, 152, 186,  81,\n",
              "       214, 159, 139, 145,  79, 196, 201, 217, 102, 254, 162, 174, 170,\n",
              "       126, 298, 453, 256])"
            ]
          },
          "metadata": {
            "tags": []
          },
          "execution_count": 36
        }
      ]
    },
    {
      "cell_type": "markdown",
      "metadata": {
        "id": "NgOmYQ73DkQa"
      },
      "source": [
        "*Continuous Variables*"
      ]
    },
    {
      "cell_type": "code",
      "metadata": {
        "colab": {
          "base_uri": "https://localhost:8080/"
        },
        "id": "yi6YQBRgDxO3",
        "outputId": "f483473c-de85-46a6-e584-d35131922ebb"
      },
      "source": [
        "data['latitude'].unique()"
      ],
      "execution_count": 38,
      "outputs": [
        {
          "output_type": "execute_result",
          "data": {
            "text/plain": [
              "array([35.67152, 35.71721, 35.74267, ..., 35.74279, 35.70656, 35.69889])"
            ]
          },
          "metadata": {
            "tags": []
          },
          "execution_count": 38
        }
      ]
    },
    {
      "cell_type": "code",
      "metadata": {
        "colab": {
          "base_uri": "https://localhost:8080/"
        },
        "id": "OGyml44jD9OC",
        "outputId": "588a72a1-30f6-4576-8bb1-3908e505801b"
      },
      "source": [
        "data['longitude'].unique()"
      ],
      "execution_count": 39,
      "outputs": [
        {
          "output_type": "execute_result",
          "data": {
            "text/plain": [
              "array([139.71203, 139.82596, 139.6581 , ..., 139.6898 , 139.78078,\n",
              "       139.87236])"
            ]
          },
          "metadata": {
            "tags": []
          },
          "execution_count": 39
        }
      ]
    },
    {
      "cell_type": "code",
      "metadata": {
        "colab": {
          "base_uri": "https://localhost:8080/"
        },
        "id": "7CrrWF53D_qr",
        "outputId": "7ee09001-7c19-4eae-81e7-7775f17e3629"
      },
      "source": [
        "data['reviews_per_month'].unique()"
      ],
      "execution_count": 40,
      "outputs": [
        {
          "output_type": "execute_result",
          "data": {
            "text/plain": [
              "array([2.000e-01, 1.650e+00, 1.250e+00, 1.550e+00, 1.240e+00, 2.680e+00,\n",
              "       5.400e-01, 1.160e+00, 2.310e+00, 2.650e+00, 2.640e+00, 3.310e+00,\n",
              "       1.020e+00, 1.220e+00, 1.750e+00, 2.400e+00, 6.900e-01, 4.190e+00,\n",
              "       2.070e+00, 2.750e+00, 3.090e+00, 2.980e+00, 3.780e+00, 2.080e+00,\n",
              "       1.680e+00, 2.140e+00, 1.770e+00, 6.000e-01, 4.300e-01, 1.110e+00,\n",
              "       3.960e+00, 3.360e+00, 3.300e-01, 0.000e+00, 3.190e+00, 2.500e-01,\n",
              "       1.570e+00, 2.380e+00, 3.250e+00, 1.300e-01, 2.700e-01, 2.290e+00,\n",
              "       1.070e+00, 2.190e+00, 1.050e+00, 1.210e+00, 1.100e+00, 4.120e+00,\n",
              "       4.700e-01, 1.280e+00, 1.200e-01, 3.510e+00, 3.800e-01, 6.000e-02,\n",
              "       1.720e+00, 8.400e-01, 2.260e+00, 1.880e+00, 1.340e+00, 4.830e+00,\n",
              "       9.600e-01, 1.900e+00, 1.470e+00, 1.990e+00, 1.150e+00, 9.300e-01,\n",
              "       2.330e+00, 9.900e-01, 2.990e+00, 5.700e-01, 1.100e-01, 8.100e-01,\n",
              "       1.800e-01, 3.290e+00, 1.330e+00, 4.290e+00, 2.880e+00, 2.100e+00,\n",
              "       5.300e-01, 9.400e-01, 2.340e+00, 2.520e+00, 2.960e+00, 7.240e+00,\n",
              "       1.300e+00, 1.980e+00, 5.100e+00, 3.540e+00, 3.140e+00, 8.600e-01,\n",
              "       3.700e-01, 1.480e+00, 2.350e+00, 5.900e-01, 4.900e-01, 3.720e+00,\n",
              "       3.930e+00, 5.000e-02, 1.310e+00, 5.010e+00, 7.200e-01, 2.460e+00,\n",
              "       4.220e+00, 3.560e+00, 3.260e+00, 3.030e+00, 1.930e+00, 5.000e-01,\n",
              "       1.700e-01, 3.270e+00, 4.720e+00, 4.360e+00, 3.450e+00, 4.330e+00,\n",
              "       4.530e+00, 1.740e+00, 7.100e-01, 8.000e-02, 1.260e+00, 3.410e+00,\n",
              "       2.940e+00, 3.650e+00, 1.420e+00, 3.180e+00, 2.790e+00, 8.300e-01,\n",
              "       1.830e+00, 3.950e+00, 1.800e+00, 1.120e+00, 2.360e+00, 5.110e+00,\n",
              "       9.700e-01, 1.190e+00, 1.810e+00, 2.420e+00, 4.500e-01, 2.300e-01,\n",
              "       1.380e+00, 5.360e+00, 2.200e-01, 1.500e-01, 4.100e-01, 3.860e+00,\n",
              "       2.600e-01, 3.470e+00, 3.240e+00, 3.320e+00, 2.320e+00, 1.760e+00,\n",
              "       1.600e-01, 2.400e-01, 2.580e+00, 5.200e-01, 3.640e+00, 5.320e+00,\n",
              "       3.430e+00, 7.400e-01, 9.100e-01, 2.000e+00, 1.490e+00, 3.220e+00,\n",
              "       3.210e+00, 3.520e+00, 1.060e+00, 4.440e+00, 3.200e+00, 2.160e+00,\n",
              "       8.500e-01, 4.590e+00, 1.510e+00, 4.270e+00, 1.730e+00, 3.570e+00,\n",
              "       1.690e+00, 8.900e-01, 3.460e+00, 1.580e+00, 2.770e+00, 4.890e+00,\n",
              "       4.110e+00, 6.500e-01, 2.040e+00, 2.090e+00, 2.440e+00, 2.500e+00,\n",
              "       2.370e+00, 2.240e+00, 1.130e+00, 5.800e-01, 2.820e+00, 9.200e-01,\n",
              "       8.000e-01, 2.540e+00, 2.050e+00, 3.990e+00, 2.730e+00, 5.070e+00,\n",
              "       2.590e+00, 1.040e+00, 4.800e-01, 2.840e+00, 9.500e-01, 2.850e+00,\n",
              "       2.560e+00, 4.670e+00, 1.400e+00, 1.610e+00, 5.280e+00, 3.740e+00,\n",
              "       4.780e+00, 5.510e+00, 8.520e+00, 4.170e+00, 1.180e+00, 4.130e+00,\n",
              "       1.030e+00, 3.080e+00, 4.650e+00, 4.560e+00, 4.380e+00, 3.620e+00,\n",
              "       3.060e+00, 1.790e+00, 7.300e-01, 4.420e+00, 6.400e-01, 3.850e+00,\n",
              "       7.600e-01, 1.530e+00, 4.040e+00, 2.600e+00, 2.830e+00, 8.800e-01,\n",
              "       3.590e+00, 2.690e+00, 1.640e+00, 5.240e+00, 4.700e+00, 1.350e+00,\n",
              "       3.050e+00, 6.100e-01, 2.630e+00, 1.430e+00, 3.530e+00, 4.090e+00,\n",
              "       2.710e+00, 1.780e+00, 4.460e+00, 3.900e-01, 3.110e+00, 1.540e+00,\n",
              "       2.910e+00, 3.770e+00, 1.620e+00, 9.000e-01, 5.130e+00, 2.670e+00,\n",
              "       4.300e+00, 4.150e+00, 3.750e+00, 4.400e+00, 2.900e+00, 4.070e+00,\n",
              "       2.430e+00, 2.410e+00, 2.210e+00, 3.020e+00, 1.600e+00, 1.590e+00,\n",
              "       1.440e+00, 5.840e+00, 2.220e+00, 5.660e+00, 4.050e+00, 1.950e+00,\n",
              "       4.880e+00, 5.060e+00, 3.490e+00, 2.660e+00, 2.450e+00, 1.860e+00,\n",
              "       2.920e+00, 5.200e+00, 5.230e+00, 2.250e+00, 7.800e-01, 7.700e-01,\n",
              "       3.790e+00, 3.120e+00, 2.100e-01, 1.400e-01, 2.780e+00, 3.680e+00,\n",
              "       2.130e+00, 5.150e+00, 4.950e+00, 1.910e+00, 2.180e+00, 4.520e+00,\n",
              "       2.760e+00, 1.670e+00, 2.800e-01, 1.170e+00, 3.400e+00, 2.060e+00,\n",
              "       2.870e+00, 1.410e+00, 1.700e+00, 4.480e+00, 5.190e+00, 7.900e-01,\n",
              "       3.610e+00, 1.970e+00, 5.410e+00, 1.850e+00, 3.130e+00, 4.550e+00,\n",
              "       6.200e-01, 2.300e+00, 2.280e+00, 1.940e+00, 3.800e+00, 3.600e-01,\n",
              "       7.000e-02, 2.530e+00, 3.440e+00, 4.400e-01, 4.060e+00, 3.830e+00,\n",
              "       2.810e+00, 1.010e+00, 1.660e+00, 3.380e+00, 9.800e-01, 4.570e+00,\n",
              "       2.720e+00, 4.010e+00, 3.500e+00, 4.910e+00, 5.020e+00, 4.960e+00,\n",
              "       3.900e+00, 4.200e+00, 6.030e+00, 4.470e+00, 2.470e+00, 3.010e+00,\n",
              "       3.100e+00, 4.080e+00, 3.660e+00, 2.230e+00, 2.930e+00, 4.810e+00,\n",
              "       4.900e+00, 3.000e-01, 4.600e-01, 5.140e+00, 5.620e+00, 3.280e+00,\n",
              "       2.390e+00, 1.360e+00, 2.610e+00, 3.000e+00, 3.630e+00, 2.620e+00,\n",
              "       3.160e+00, 3.600e+00, 3.810e+00, 6.300e-01, 3.300e+00, 5.600e-01,\n",
              "       5.090e+00, 4.870e+00, 3.880e+00, 3.870e+00, 5.870e+00, 5.270e+00,\n",
              "       3.200e-01, 4.930e+00, 5.000e+00, 4.860e+00, 5.880e+00, 5.830e+00,\n",
              "       6.600e-01, 6.700e-01, 3.940e+00, 3.920e+00, 4.230e+00, 5.260e+00,\n",
              "       5.210e+00, 3.890e+00, 9.000e-02, 3.330e+00, 2.020e+00, 5.500e-01,\n",
              "       3.910e+00, 4.710e+00, 3.840e+00, 3.710e+00, 4.260e+00, 4.000e-01,\n",
              "       4.730e+00, 3.400e-01, 1.820e+00, 1.140e+00, 1.200e+00, 3.350e+00,\n",
              "       2.510e+00, 5.330e+00, 2.550e+00, 1.230e+00, 2.950e+00, 3.150e+00,\n",
              "       4.990e+00, 5.350e+00, 4.490e+00, 3.040e+00, 3.500e-01, 5.490e+00,\n",
              "       2.480e+00, 5.560e+00, 1.890e+00, 3.820e+00, 3.690e+00, 1.460e+00,\n",
              "       3.070e+00, 2.200e+00, 4.370e+00, 2.150e+00, 5.340e+00, 4.180e+00,\n",
              "       5.120e+00, 1.000e-01, 1.960e+00, 1.080e+00, 1.560e+00, 4.410e+00,\n",
              "       2.120e+00, 4.750e+00, 3.420e+00, 2.490e+00, 5.630e+00, 7.640e+00,\n",
              "       3.340e+00, 4.940e+00, 4.450e+00, 5.310e+00, 7.500e-01, 4.340e+00,\n",
              "       5.990e+00, 1.450e+00, 1.290e+00, 5.960e+00, 4.850e+00, 4.160e+00,\n",
              "       2.570e+00, 2.270e+00, 4.280e+00, 1.710e+00, 3.970e+00, 5.690e+00,\n",
              "       3.480e+00, 3.170e+00, 1.920e+00, 2.010e+00, 8.700e-01, 3.980e+00,\n",
              "       6.130e+00, 2.890e+00, 4.620e+00, 4.350e+00, 4.580e+00, 6.530e+00,\n",
              "       1.870e+00, 1.270e+00, 2.170e+00, 5.160e+00, 8.200e-01, 5.100e-01,\n",
              "       3.670e+00, 1.520e+00, 1.000e+00, 4.740e+00, 1.840e+00, 5.220e+00,\n",
              "       5.040e+00, 4.510e+00, 4.680e+00, 4.000e-02, 2.030e+00, 5.180e+00,\n",
              "       2.740e+00, 3.230e+00, 1.900e-01, 1.390e+00, 2.700e+00, 4.000e+00,\n",
              "       3.700e+00, 2.900e-01, 6.970e+00, 7.470e+00, 5.520e+00, 7.020e+00,\n",
              "       1.630e+00, 5.640e+00, 2.110e+00, 2.800e+00, 3.370e+00, 5.700e+00,\n",
              "       5.030e+00, 1.370e+00, 5.440e+00, 2.970e+00, 3.390e+00, 4.790e+00,\n",
              "       6.710e+00, 4.200e-01, 5.580e+00, 3.580e+00, 3.100e-01, 8.270e+00,\n",
              "       3.730e+00, 7.030e+00, 7.000e-01, 1.500e+00, 4.100e+00, 1.320e+00,\n",
              "       6.580e+00, 1.090e+00, 4.140e+00, 4.020e+00, 8.300e+00, 4.500e+00,\n",
              "       1.767e+01, 5.050e+00, 5.390e+00, 2.860e+00, 4.250e+00, 4.760e+00,\n",
              "       3.760e+00, 3.550e+00, 5.900e+00, 4.770e+00, 5.710e+00, 5.290e+00,\n",
              "       4.310e+00, 4.240e+00, 7.520e+00, 4.540e+00, 6.800e-01, 7.600e+00,\n",
              "       4.030e+00, 7.530e+00, 4.980e+00, 5.250e+00, 4.430e+00, 5.790e+00,\n",
              "       5.890e+00, 7.110e+00, 1.038e+01, 1.130e+01, 6.720e+00, 6.210e+00,\n",
              "       4.970e+00, 5.570e+00, 7.940e+00, 5.460e+00, 7.010e+00, 1.346e+01,\n",
              "       1.451e+01, 1.045e+01, 6.220e+00, 6.140e+00, 1.227e+01, 5.450e+00,\n",
              "       7.150e+00, 7.230e+00, 6.680e+00, 4.610e+00, 4.840e+00, 6.780e+00,\n",
              "       1.194e+01, 6.020e+00, 4.515e+01, 5.121e+01, 6.310e+00, 4.210e+00,\n",
              "       7.780e+00, 5.170e+00, 6.700e+00, 7.370e+00, 1.452e+01, 2.369e+01,\n",
              "       1.763e+01, 1.548e+01, 1.198e+01, 5.380e+00, 6.120e+00, 5.970e+00,\n",
              "       4.320e+00, 6.000e+00, 4.630e+00, 9.020e+00, 4.600e+00, 6.560e+00,\n",
              "       5.080e+00, 6.990e+00, 5.550e+00, 5.610e+00, 5.800e+00, 4.800e+00,\n",
              "       4.690e+00, 6.940e+00, 5.540e+00, 5.810e+00, 1.123e+01, 5.670e+00,\n",
              "       5.590e+00, 2.373e+01, 5.920e+00, 6.790e+00, 9.170e+00, 7.720e+00,\n",
              "       8.680e+00, 5.910e+00, 5.470e+00, 6.840e+00, 7.260e+00, 6.520e+00,\n",
              "       4.390e+00, 5.720e+00, 6.060e+00, 7.460e+00, 4.640e+00, 6.410e+00,\n",
              "       6.550e+00, 6.320e+00, 5.940e+00, 5.820e+00, 3.938e+01, 5.500e+00,\n",
              "       5.400e+00, 6.170e+00, 4.920e+00, 6.570e+00, 5.420e+00, 5.300e+00,\n",
              "       5.600e+00, 4.660e+00, 6.330e+00, 5.950e+00, 5.850e+00, 7.390e+00,\n",
              "       6.360e+00, 5.430e+00, 6.490e+00, 6.230e+00, 1.481e+01, 7.360e+00,\n",
              "       6.430e+00, 7.680e+00, 6.280e+00, 5.740e+00, 1.140e+01, 6.920e+00,\n",
              "       6.690e+00, 6.150e+00, 8.250e+00, 1.364e+01, 1.718e+01, 2.328e+01,\n",
              "       7.090e+00, 7.500e+00, 7.590e+00, 6.450e+00, 5.650e+00, 7.210e+00,\n",
              "       5.480e+00, 9.400e+00, 6.960e+00, 7.200e+00, 1.100e+01, 6.500e+00,\n",
              "       7.120e+00, 8.460e+00, 5.680e+00, 9.000e+00, 6.750e+00, 6.180e+00,\n",
              "       1.000e+01, 7.000e+00, 5.530e+00])"
            ]
          },
          "metadata": {
            "tags": []
          },
          "execution_count": 40
        }
      ]
    },
    {
      "cell_type": "markdown",
      "metadata": {
        "id": "zhTvCZ61E88I"
      },
      "source": [
        "*Plot Data*"
      ]
    },
    {
      "cell_type": "code",
      "metadata": {
        "colab": {
          "base_uri": "https://localhost:8080/",
          "height": 454
        },
        "id": "MpRmB2M_IoC1",
        "outputId": "632dc186-1bfc-4ada-fed9-6440a8908a12"
      },
      "source": [
        "sb.distplot(data.id, color=\"green\")"
      ],
      "execution_count": 58,
      "outputs": [
        {
          "output_type": "stream",
          "text": [
            "/usr/local/lib/python3.7/dist-packages/seaborn/distributions.py:2557: FutureWarning: `distplot` is a deprecated function and will be removed in a future version. Please adapt your code to use either `displot` (a figure-level function with similar flexibility) or `histplot` (an axes-level function for histograms).\n",
            "  warnings.warn(msg, FutureWarning)\n"
          ],
          "name": "stderr"
        },
        {
          "output_type": "execute_result",
          "data": {
            "text/plain": [
              "<matplotlib.axes._subplots.AxesSubplot at 0x7fa8ce870bd0>"
            ]
          },
          "metadata": {
            "tags": []
          },
          "execution_count": 58
        },
        {
          "output_type": "display_data",
          "data": {
            "image/png": "[encoded data removed]",
            "text/plain": [
              "<Figure size 1152x648 with 1 Axes>"
            ]
          },
          "metadata": {
            "tags": [],
            "needs_background": "light"
          }
        }
      ]
    },
    {
      "cell_type": "code",
      "metadata": {
        "colab": {
          "base_uri": "https://localhost:8080/",
          "height": 446
        },
        "id": "etOZtQjWI1VQ",
        "outputId": "b0c3240b-9a8a-42c4-bb41-4264cda67260"
      },
      "source": [
        "sb.distplot(data.host_id, color=\"pink\")"
      ],
      "execution_count": 60,
      "outputs": [
        {
          "output_type": "stream",
          "text": [
            "/usr/local/lib/python3.7/dist-packages/seaborn/distributions.py:2557: FutureWarning: `distplot` is a deprecated function and will be removed in a future version. Please adapt your code to use either `displot` (a figure-level function with similar flexibility) or `histplot` (an axes-level function for histograms).\n",
            "  warnings.warn(msg, FutureWarning)\n"
          ],
          "name": "stderr"
        },
        {
          "output_type": "execute_result",
          "data": {
            "text/plain": [
              "<matplotlib.axes._subplots.AxesSubplot at 0x7fa8c8eb7490>"
            ]
          },
          "metadata": {
            "tags": []
          },
          "execution_count": 60
        },
        {
          "output_type": "display_data",
          "data": {
            "image/png": "[encoded data removed]",
            "text/plain": [
              "<Figure size 1152x648 with 1 Axes>"
            ]
          },
          "metadata": {
            "tags": [],
            "needs_background": "light"
          }
        }
      ]
    },
    {
      "cell_type": "code",
      "metadata": {
        "colab": {
          "base_uri": "https://localhost:8080/",
          "height": 447
        },
        "id": "opsfdw-FJGzh",
        "outputId": "edb885e1-378d-482c-b291-9f7619e7a385"
      },
      "source": [
        "sb.distplot(data.latitude, color=\"grey\")"
      ],
      "execution_count": 61,
      "outputs": [
        {
          "output_type": "stream",
          "text": [
            "/usr/local/lib/python3.7/dist-packages/seaborn/distributions.py:2557: FutureWarning: `distplot` is a deprecated function and will be removed in a future version. Please adapt your code to use either `displot` (a figure-level function with similar flexibility) or `histplot` (an axes-level function for histograms).\n",
            "  warnings.warn(msg, FutureWarning)\n"
          ],
          "name": "stderr"
        },
        {
          "output_type": "execute_result",
          "data": {
            "text/plain": [
              "<matplotlib.axes._subplots.AxesSubplot at 0x7fa8cc48fd10>"
            ]
          },
          "metadata": {
            "tags": []
          },
          "execution_count": 61
        },
        {
          "output_type": "display_data",
          "data": {
            "image/png": "[encoded data removed]",
            "text/plain": [
              "<Figure size 1152x648 with 1 Axes>"
            ]
          },
          "metadata": {
            "tags": [],
            "needs_background": "light"
          }
        }
      ]
    },
    {
      "cell_type": "code",
      "metadata": {
        "colab": {
          "base_uri": "https://localhost:8080/",
          "height": 447
        },
        "id": "RbtVCOFQJKqK",
        "outputId": "4715cf19-eae5-42f5-fb42-92f881626d2f"
      },
      "source": [
        "sb.distplot(data.longitude, color=\"purple\")"
      ],
      "execution_count": 62,
      "outputs": [
        {
          "output_type": "stream",
          "text": [
            "/usr/local/lib/python3.7/dist-packages/seaborn/distributions.py:2557: FutureWarning: `distplot` is a deprecated function and will be removed in a future version. Please adapt your code to use either `displot` (a figure-level function with similar flexibility) or `histplot` (an axes-level function for histograms).\n",
            "  warnings.warn(msg, FutureWarning)\n"
          ],
          "name": "stderr"
        },
        {
          "output_type": "execute_result",
          "data": {
            "text/plain": [
              "<matplotlib.axes._subplots.AxesSubplot at 0x7fa8cd8fa350>"
            ]
          },
          "metadata": {
            "tags": []
          },
          "execution_count": 62
        },
        {
          "output_type": "display_data",
          "data": {
            "image/png": "[encoded data removed]",
            "text/plain": [
              "<Figure size 1152x648 with 1 Axes>"
            ]
          },
          "metadata": {
            "tags": [],
            "needs_background": "light"
          }
        }
      ]
    },
    {
      "cell_type": "code",
      "metadata": {
        "colab": {
          "base_uri": "https://localhost:8080/",
          "height": 454
        },
        "id": "OaKoYBhlFAVd",
        "outputId": "37a89f88-b58b-4023-b5f9-7d13adab3133"
      },
      "source": [
        "sb.distplot(data.price, color=\"red\")"
      ],
      "execution_count": 56,
      "outputs": [
        {
          "output_type": "stream",
          "text": [
            "/usr/local/lib/python3.7/dist-packages/seaborn/distributions.py:2557: FutureWarning: `distplot` is a deprecated function and will be removed in a future version. Please adapt your code to use either `displot` (a figure-level function with similar flexibility) or `histplot` (an axes-level function for histograms).\n",
            "  warnings.warn(msg, FutureWarning)\n"
          ],
          "name": "stderr"
        },
        {
          "output_type": "execute_result",
          "data": {
            "text/plain": [
              "<matplotlib.axes._subplots.AxesSubplot at 0x7fa8ccfeb650>"
            ]
          },
          "metadata": {
            "tags": []
          },
          "execution_count": 56
        },
        {
          "output_type": "display_data",
          "data": {
            "image/png": "[encoded data removed]",
            "text/plain": [
              "<Figure size 1152x648 with 1 Axes>"
            ]
          },
          "metadata": {
            "tags": [],
            "needs_background": "light"
          }
        }
      ]
    },
    {
      "cell_type": "code",
      "metadata": {
        "colab": {
          "base_uri": "https://localhost:8080/",
          "height": 442
        },
        "id": "gdlbQUOfH-go",
        "outputId": "9f4d0cbf-5bce-4c66-d68e-5e2399f2bd79"
      },
      "source": [
        "sb.distplot(data.minimum_nights, color =\"yellow\")"
      ],
      "execution_count": 63,
      "outputs": [
        {
          "output_type": "stream",
          "text": [
            "/usr/local/lib/python3.7/dist-packages/seaborn/distributions.py:2557: FutureWarning: `distplot` is a deprecated function and will be removed in a future version. Please adapt your code to use either `displot` (a figure-level function with similar flexibility) or `histplot` (an axes-level function for histograms).\n",
            "  warnings.warn(msg, FutureWarning)\n"
          ],
          "name": "stderr"
        },
        {
          "output_type": "execute_result",
          "data": {
            "text/plain": [
              "<matplotlib.axes._subplots.AxesSubplot at 0x7fa8cac3c4d0>"
            ]
          },
          "metadata": {
            "tags": []
          },
          "execution_count": 63
        },
        {
          "output_type": "display_data",
          "data": {
            "image/png": "[encoded data removed]",
            "text/plain": [
              "<Figure size 1152x648 with 1 Axes>"
            ]
          },
          "metadata": {
            "tags": [],
            "needs_background": "light"
          }
        }
      ]
    },
    {
      "cell_type": "code",
      "metadata": {
        "colab": {
          "base_uri": "https://localhost:8080/",
          "height": 442
        },
        "id": "gWUeSLVjJVEx",
        "outputId": "b8244a91-3a61-4431-a799-46c853e05626"
      },
      "source": [
        "sb.distplot(data.number_of_reviews, color=\"cyan\")"
      ],
      "execution_count": 64,
      "outputs": [
        {
          "output_type": "stream",
          "text": [
            "/usr/local/lib/python3.7/dist-packages/seaborn/distributions.py:2557: FutureWarning: `distplot` is a deprecated function and will be removed in a future version. Please adapt your code to use either `displot` (a figure-level function with similar flexibility) or `histplot` (an axes-level function for histograms).\n",
            "  warnings.warn(msg, FutureWarning)\n"
          ],
          "name": "stderr"
        },
        {
          "output_type": "execute_result",
          "data": {
            "text/plain": [
              "<matplotlib.axes._subplots.AxesSubplot at 0x7fa8cdcaad10>"
            ]
          },
          "metadata": {
            "tags": []
          },
          "execution_count": 64
        },
        {
          "output_type": "display_data",
          "data": {
            "image/png": "[encoded data removed]",
            "text/plain": [
              "<Figure size 1152x648 with 1 Axes>"
            ]
          },
          "metadata": {
            "tags": [],
            "needs_background": "light"
          }
        }
      ]
    },
    {
      "cell_type": "code",
      "metadata": {
        "colab": {
          "base_uri": "https://localhost:8080/",
          "height": 442
        },
        "id": "gYgWMemjJaUX",
        "outputId": "9bca38a7-062b-483b-cfb4-2000714b3b79"
      },
      "source": [
        "sb.distplot(data.reviews_per_month, color=\"brown\")"
      ],
      "execution_count": 65,
      "outputs": [
        {
          "output_type": "stream",
          "text": [
            "/usr/local/lib/python3.7/dist-packages/seaborn/distributions.py:2557: FutureWarning: `distplot` is a deprecated function and will be removed in a future version. Please adapt your code to use either `displot` (a figure-level function with similar flexibility) or `histplot` (an axes-level function for histograms).\n",
            "  warnings.warn(msg, FutureWarning)\n"
          ],
          "name": "stderr"
        },
        {
          "output_type": "execute_result",
          "data": {
            "text/plain": [
              "<matplotlib.axes._subplots.AxesSubplot at 0x7fa8cabebdd0>"
            ]
          },
          "metadata": {
            "tags": []
          },
          "execution_count": 65
        },
        {
          "output_type": "display_data",
          "data": {
            "image/png": "[encoded data removed]",
            "text/plain": [
              "<Figure size 1152x648 with 1 Axes>"
            ]
          },
          "metadata": {
            "tags": [],
            "needs_background": "light"
          }
        }
      ]
    },
    {
      "cell_type": "markdown",
      "metadata": {
        "id": "txDhw-UfKFNY"
      },
      "source": [
        "3."
      ]
    },
    {
      "cell_type": "markdown",
      "metadata": {
        "id": "qmXXRYf_MnWo"
      },
      "source": [
        "Explain data with correlation matrix"
      ]
    },
    {
      "cell_type": "code",
      "metadata": {
        "colab": {
          "base_uri": "https://localhost:8080/",
          "height": 665
        },
        "id": "kVwI7kOIMVox",
        "outputId": "814f3362-cdfa-4aa8-e9fe-209a69e42678"
      },
      "source": [
        "print(data.head)\n",
        "corr_matrix = data.corr()\n",
        "sb.heatmap(data = corr_matrix, annot = True)\n",
        "plt.rcParams['figure.figsize'] = [25,16]\n",
        "plt.show()"
      ],
      "execution_count": 66,
      "outputs": [
        {
          "output_type": "stream",
          "text": [
            "<bound method NDFrame.head of              id  ... reviews_per_month\n",
            "0         35303  ...              0.20\n",
            "1        197677  ...              1.65\n",
            "2        289597  ...              1.25\n",
            "3        370759  ...              1.55\n",
            "4        700253  ...              1.24\n",
            "...         ...  ...               ...\n",
            "11461  36083287  ...              0.00\n",
            "11462  36083512  ...              0.00\n",
            "11463  36084566  ...              0.00\n",
            "11464  36085357  ...              0.00\n",
            "11465  36086604  ...              0.00\n",
            "\n",
            "[11466 rows x 13 columns]>\n"
          ],
          "name": "stdout"
        },
        {
          "output_type": "display_data",
          "data": {
            "image/png": "[encoded data removed]",
            "text/plain": [
              "<Figure size 1152x648 with 2 Axes>"
            ]
          },
          "metadata": {
            "tags": [],
            "needs_background": "light"
          }
        }
      ]
    },
    {
      "cell_type": "markdown",
      "metadata": {
        "id": "hDub_kGOOinH"
      },
      "source": [
        "4."
      ]
    },
    {
      "cell_type": "markdown",
      "metadata": {
        "id": "lJ_3R2YYOktM"
      },
      "source": [
        "*Univariate LR*"
      ]
    },
    {
      "cell_type": "code",
      "metadata": {
        "id": "02199Eu9Ok8X"
      },
      "source": [
        "#prepare data\n",
        "X = data[['minimum_nights']]\n",
        "Y = data['reviews_per_month']\n",
        "XTrain, XTest, YTrain, YTest = train_test_split(X, Y, test_size = 0.2)"
      ],
      "execution_count": 70,
      "outputs": []
    },
    {
      "cell_type": "code",
      "metadata": {
        "colab": {
          "base_uri": "https://localhost:8080/"
        },
        "id": "f67u9ot7NbXf",
        "outputId": "3d937eba-392c-4f3e-c5d0-7387636c4066"
      },
      "source": [
        "#train data\n",
        "LRM = LinearRegression().fit(XTrain, YTrain)\n",
        "prediction = LRM.predict(XTest)\n",
        "print(\"theta 0  : \", LRM.intercept_)\n",
        "print(\"theta 1  : \", LRM.coef_)\n",
        "print(\"R2 Score : \", r2_score(YTest, prediction))\n",
        "print(\"Error    : \", mean_squared_error(YTest, prediction))"
      ],
      "execution_count": 71,
      "outputs": [
        {
          "output_type": "stream",
          "text": [
            "theta 0  :  2.026577169509965\n",
            "theta 1  :  [-0.03067469]\n",
            "R2 Score :  0.023270497439233706\n",
            "Error    :  3.474423037930676\n"
          ],
          "name": "stdout"
        }
      ]
    },
    {
      "cell_type": "markdown",
      "metadata": {
        "id": "NA6hPvBtOrlv"
      },
      "source": [
        "*Multivariate LR*"
      ]
    },
    {
      "cell_type": "code",
      "metadata": {
        "id": "JoivY4B3OtuR"
      },
      "source": [
        "#prepare data\n",
        "X = data[['minimum_nights', 'number_of_reviews']]\n",
        "Y = data['reviews_per_month']\n",
        "XTrain, XTest, YTrain, YTest = train_test_split(X,Y, test_size = 0.2)"
      ],
      "execution_count": 76,
      "outputs": []
    },
    {
      "cell_type": "code",
      "metadata": {
        "colab": {
          "base_uri": "https://localhost:8080/"
        },
        "id": "IGFmJT6XPDU8",
        "outputId": "ffeb0405-5c9d-41a7-f23d-e201dd299f4d"
      },
      "source": [
        "#train data\n",
        "LRM = LinearRegression().fit(XTrain, YTrain)\n",
        "prediction = LRM.predict(XTest)\n",
        "print(\"theta 0    : \", LRM.intercept_)\n",
        "print(\"theta 1-2  : \", LRM.coef_)\n",
        "print(\"R2 Score   : \", r2_score(YTest, prediction))\n",
        "print(\"Error      : \", mean_squared_error(YTest, prediction))"
      ],
      "execution_count": 102,
      "outputs": [
        {
          "output_type": "stream",
          "text": [
            "theta 0    :  1.3854549428129865\n",
            "theta 1-2  :  [-0.03168676  0.02525982]\n",
            "R2 Score   :  0.3130483431771225\n",
            "Error      :  1.8385894660277537\n"
          ],
          "name": "stdout"
        }
      ]
    },
    {
      "cell_type": "markdown",
      "metadata": {
        "id": "F05PvzxiPXWL"
      },
      "source": [
        "5."
      ]
    },
    {
      "cell_type": "code",
      "metadata": {
        "colab": {
          "base_uri": "https://localhost:8080/"
        },
        "id": "X-awtst1PYll",
        "outputId": "a39bbbae-5b5f-4ccf-fcb8-8e3e535291f3"
      },
      "source": [
        "#test evaluation\n",
        "print(\"R2: \", r2_score(YTest,prediction))\n",
        "print(\"MSE: \",mean_squared_error(YTest, prediction))\n",
        "print(\"MAE: \", mean_absolute_error(YTest, prediction))"
      ],
      "execution_count": 103,
      "outputs": [
        {
          "output_type": "stream",
          "text": [
            "R2:  0.3130483431771225\n",
            "MSE:  1.8385894660277537\n",
            "MAE:  1.0381509148526036\n"
          ],
          "name": "stdout"
        }
      ]
    },
    {
      "cell_type": "markdown",
      "metadata": {
        "id": "zGQvMOV5SNEc"
      },
      "source": [
        "6."
      ]
    },
    {
      "cell_type": "markdown",
      "metadata": {
        "id": "4VipXLgSYxHQ"
      },
      "source": [
        "a."
      ]
    },
    {
      "cell_type": "code",
      "metadata": {
        "colab": {
          "base_uri": "https://localhost:8080/"
        },
        "id": "SbyOu3NBSODm",
        "outputId": "bd73739b-5bd9-4881-ef6b-a50bfd8ebf53"
      },
      "source": [
        "#number_of_reviews\n",
        "prediction = regression.predict(test[['reviews_per_month']])\n",
        "print(\"R2: \", r2_score(test[['number_of_reviews']], prediction))"
      ],
      "execution_count": 95,
      "outputs": [
        {
          "output_type": "stream",
          "text": [
            "R2:  0.30006928722269766\n"
          ],
          "name": "stdout"
        }
      ]
    },
    {
      "cell_type": "code",
      "metadata": {
        "colab": {
          "base_uri": "https://localhost:8080/"
        },
        "id": "Va1eVJCUX3rY",
        "outputId": "59d109c3-9519-471e-92d3-f5e66a830352"
      },
      "source": [
        "#minimum_nights\n",
        "prediction = regression.predict(test[['reviews_per_month']])\n",
        "print(\"R2: \", r2_score(test[['minimum_nights']], prediction))"
      ],
      "execution_count": 96,
      "outputs": [
        {
          "output_type": "stream",
          "text": [
            "R2:  -17.283502336287\n"
          ],
          "name": "stdout"
        }
      ]
    },
    {
      "cell_type": "markdown",
      "metadata": {
        "id": "4Ve6pDlWYHow"
      },
      "source": [
        "b."
      ]
    },
    {
      "cell_type": "code",
      "metadata": {
        "colab": {
          "base_uri": "https://localhost:8080/"
        },
        "id": "CKvuCh7RYHAt",
        "outputId": "12b84d7f-fc56-476c-fbae-72aebb4dfef9"
      },
      "source": [
        "#id\n",
        "prediction = regression.predict(test[['reviews_per_month']])\n",
        "print(\"R2: \", r2_score(test[['id']], prediction))"
      ],
      "execution_count": 97,
      "outputs": [
        {
          "output_type": "stream",
          "text": [
            "R2:  -12.516383770011242\n"
          ],
          "name": "stdout"
        }
      ]
    },
    {
      "cell_type": "code",
      "metadata": {
        "colab": {
          "base_uri": "https://localhost:8080/"
        },
        "id": "snH4ijeIYPoQ",
        "outputId": "7c6bc8d8-fbd7-44ee-879a-30b6e7db144b"
      },
      "source": [
        "#host_id\n",
        "prediction = regression.predict(test[['reviews_per_month']])\n",
        "print(\"R2: \", r2_score(test[['host_id']], prediction))"
      ],
      "execution_count": 98,
      "outputs": [
        {
          "output_type": "stream",
          "text": [
            "R2:  -3.0945237508213435\n"
          ],
          "name": "stdout"
        }
      ]
    },
    {
      "cell_type": "code",
      "metadata": {
        "colab": {
          "base_uri": "https://localhost:8080/"
        },
        "id": "ZOtl0agIYUg8",
        "outputId": "010bd6b3-a460-401d-ee8b-f5b3b297bb15"
      },
      "source": [
        "#latitude\n",
        "prediction = regression.predict(test[['reviews_per_month']])\n",
        "print(\"R2: \", r2_score(test[['latitude']], prediction))"
      ],
      "execution_count": 99,
      "outputs": [
        {
          "output_type": "stream",
          "text": [
            "R2:  -13625.58827671011\n"
          ],
          "name": "stdout"
        }
      ]
    },
    {
      "cell_type": "code",
      "metadata": {
        "colab": {
          "base_uri": "https://localhost:8080/"
        },
        "id": "DjUL2to_Ydle",
        "outputId": "583d7444-8bbe-431e-e689-28adf862d482"
      },
      "source": [
        "#longitude\n",
        "prediction = regression.predict(test[['reviews_per_month']])\n",
        "print(\"R2: \", r2_score(test[['longitude']], prediction))"
      ],
      "execution_count": 100,
      "outputs": [
        {
          "output_type": "stream",
          "text": [
            "R2:  -1706928.9209177403\n"
          ],
          "name": "stdout"
        }
      ]
    },
    {
      "cell_type": "code",
      "metadata": {
        "colab": {
          "base_uri": "https://localhost:8080/"
        },
        "id": "MXRtqXqbYhP4",
        "outputId": "e663feda-bba3-43a1-a140-31343179627d"
      },
      "source": [
        "#price\n",
        "prediction = regression.predict(test[['reviews_per_month']])\n",
        "print(\"R2: \", r2_score(test[['price']], prediction))"
      ],
      "execution_count": 101,
      "outputs": [
        {
          "output_type": "stream",
          "text": [
            "R2:  -0.25257504409745435\n"
          ],
          "name": "stdout"
        }
      ]
    }
  ]
}