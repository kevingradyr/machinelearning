{
  "nbformat": 4,
  "nbformat_minor": 0,
  "metadata": {
    "colab": {
      "name": "ML_MID_2301866321.ipynb",
      "provenance": []
    },
    "kernelspec": {
      "name": "python3",
      "display_name": "Python 3"
    },
    "language_info": {
      "name": "python"
    }
  },
  "cells": [
    {
      "cell_type": "markdown",
      "metadata": {
        "id": "RZdA1x9kPUMo"
      },
      "source": [
        "# Import Required Packages"
      ]
    },
    {
      "cell_type": "code",
      "metadata": {
        "id": "eoQmfpnsPXfH"
      },
      "source": [
        "import pandas as pd\n",
        "import seaborn as sns\n",
        "import numpy as np\n",
        "import matplotlib.pyplot as plt\n",
        "from sklearn import preprocessing\n",
        "from sklearn.model_selection import train_test_split\n",
        "from sklearn.linear_model import LinearRegression\n",
        "from sklearn.metrics import r2_score, mean_squared_error, mean_absolute_error"
      ],
      "execution_count": null,
      "outputs": []
    },
    {
      "cell_type": "markdown",
      "metadata": {
        "id": "r21WVuUGNCau"
      },
      "source": [
        "# Number 1\n"
      ]
    },
    {
      "cell_type": "markdown",
      "metadata": {
        "id": "H6UihFIXUyhj"
      },
      "source": [
        "I put the csv file on my github repository so that the file is easily downloaded."
      ]
    },
    {
      "cell_type": "code",
      "metadata": {
        "id": "EhdE2NRVNcIm"
      },
      "source": [
        "sample = pd.read_csv(\"https://raw.githubusercontent.com/faizarsalan/resource/main/mydataset.csv?token=ATAWW2Y4XJVJKHNBORESUJLARPLNI\")"
      ],
      "execution_count": null,
      "outputs": []
    },
    {
      "cell_type": "markdown",
      "metadata": {
        "id": "J21WPlWd-vTz"
      },
      "source": [
        "Next, I want to see the data as a whole. Find what are the types and columns."
      ]
    },
    {
      "cell_type": "code",
      "metadata": {
        "colab": {
          "base_uri": "https://localhost:8080/",
          "height": 572
        },
        "id": "Rff8_7RI-58n",
        "outputId": "1c3755e5-5ca3-408d-8b66-5e06eee4743e"
      },
      "source": [
        "sample"
      ],
      "execution_count": null,
      "outputs": [
        {
          "output_type": "execute_result",
          "data": {
            "text/html": [
              "<div>\n",
              "<style scoped>\n",
              "    .dataframe tbody tr th:only-of-type {\n",
              "        vertical-align: middle;\n",
              "    }\n",
              "\n",
              "    .dataframe tbody tr th {\n",
              "        vertical-align: top;\n",
              "    }\n",
              "\n",
              "    .dataframe thead th {\n",
              "        text-align: right;\n",
              "    }\n",
              "</style>\n",
              "<table border=\"1\" class=\"dataframe\">\n",
              "  <thead>\n",
              "    <tr style=\"text-align: right;\">\n",
              "      <th></th>\n",
              "      <th>id</th>\n",
              "      <th>name</th>\n",
              "      <th>host_id</th>\n",
              "      <th>host_name</th>\n",
              "      <th>neighbourhood_group</th>\n",
              "      <th>neighbourhood</th>\n",
              "      <th>latitude</th>\n",
              "      <th>longitude</th>\n",
              "      <th>room_type</th>\n",
              "      <th>price</th>\n",
              "      <th>minimum_nights</th>\n",
              "      <th>number_of_reviews</th>\n",
              "      <th>last_review</th>\n",
              "      <th>reviews_per_month</th>\n",
              "    </tr>\n",
              "  </thead>\n",
              "  <tbody>\n",
              "    <tr>\n",
              "      <th>0</th>\n",
              "      <td>35303</td>\n",
              "      <td>La Casa Gaienmae C Harajuku, Omotesando is nearby</td>\n",
              "      <td>151977</td>\n",
              "      <td>Miyuki</td>\n",
              "      <td>NaN</td>\n",
              "      <td>Shibuya Ku</td>\n",
              "      <td>35.67152</td>\n",
              "      <td>139.71203</td>\n",
              "      <td>Private room</td>\n",
              "      <td>4196</td>\n",
              "      <td>28</td>\n",
              "      <td>18</td>\n",
              "      <td>2018-07-28</td>\n",
              "      <td>0.20</td>\n",
              "    </tr>\n",
              "    <tr>\n",
              "      <th>1</th>\n",
              "      <td>197677</td>\n",
              "      <td>Oshiage Holiday Apartment</td>\n",
              "      <td>964081</td>\n",
              "      <td>Yoshimi &amp; Marek</td>\n",
              "      <td>NaN</td>\n",
              "      <td>Sumida Ku</td>\n",
              "      <td>35.71721</td>\n",
              "      <td>139.82596</td>\n",
              "      <td>Entire home/apt</td>\n",
              "      <td>10975</td>\n",
              "      <td>3</td>\n",
              "      <td>156</td>\n",
              "      <td>2019-05-21</td>\n",
              "      <td>1.65</td>\n",
              "    </tr>\n",
              "    <tr>\n",
              "      <th>2</th>\n",
              "      <td>289597</td>\n",
              "      <td>Private apt in central Tokyo #203</td>\n",
              "      <td>341577</td>\n",
              "      <td>Hide&amp;Kei</td>\n",
              "      <td>NaN</td>\n",
              "      <td>Nerima Ku</td>\n",
              "      <td>35.74267</td>\n",
              "      <td>139.65810</td>\n",
              "      <td>Entire home/apt</td>\n",
              "      <td>4196</td>\n",
              "      <td>30</td>\n",
              "      <td>107</td>\n",
              "      <td>2019-05-25</td>\n",
              "      <td>1.25</td>\n",
              "    </tr>\n",
              "    <tr>\n",
              "      <th>3</th>\n",
              "      <td>370759</td>\n",
              "      <td>Cozy flat #203, local area YET 10 mins to shib...</td>\n",
              "      <td>1573631</td>\n",
              "      <td>Gilles,Mayumi,Taiki</td>\n",
              "      <td>NaN</td>\n",
              "      <td>Setagaya Ku</td>\n",
              "      <td>35.66344</td>\n",
              "      <td>139.65593</td>\n",
              "      <td>Entire home/apt</td>\n",
              "      <td>6994</td>\n",
              "      <td>29</td>\n",
              "      <td>99</td>\n",
              "      <td>2019-05-07</td>\n",
              "      <td>1.55</td>\n",
              "    </tr>\n",
              "    <tr>\n",
              "      <th>4</th>\n",
              "      <td>700253</td>\n",
              "      <td>Private apt in central Tokyo #201</td>\n",
              "      <td>341577</td>\n",
              "      <td>Hide&amp;Kei</td>\n",
              "      <td>NaN</td>\n",
              "      <td>Nerima Ku</td>\n",
              "      <td>35.74264</td>\n",
              "      <td>139.65832</td>\n",
              "      <td>Entire home/apt</td>\n",
              "      <td>3981</td>\n",
              "      <td>30</td>\n",
              "      <td>101</td>\n",
              "      <td>2019-05-03</td>\n",
              "      <td>1.24</td>\n",
              "    </tr>\n",
              "    <tr>\n",
              "      <th>...</th>\n",
              "      <td>...</td>\n",
              "      <td>...</td>\n",
              "      <td>...</td>\n",
              "      <td>...</td>\n",
              "      <td>...</td>\n",
              "      <td>...</td>\n",
              "      <td>...</td>\n",
              "      <td>...</td>\n",
              "      <td>...</td>\n",
              "      <td>...</td>\n",
              "      <td>...</td>\n",
              "      <td>...</td>\n",
              "      <td>...</td>\n",
              "      <td>...</td>\n",
              "    </tr>\n",
              "    <tr>\n",
              "      <th>11461</th>\n",
              "      <td>36083287</td>\n",
              "      <td>1min to station · Skytree/Tatami hotel/new design</td>\n",
              "      <td>235406925</td>\n",
              "      <td>Sayoko佐代子</td>\n",
              "      <td>NaN</td>\n",
              "      <td>Sumida Ku</td>\n",
              "      <td>35.70862</td>\n",
              "      <td>139.81393</td>\n",
              "      <td>Entire home/apt</td>\n",
              "      <td>21951</td>\n",
              "      <td>1</td>\n",
              "      <td>0</td>\n",
              "      <td>NaN</td>\n",
              "      <td>NaN</td>\n",
              "    </tr>\n",
              "    <tr>\n",
              "      <th>11462</th>\n",
              "      <td>36083512</td>\n",
              "      <td>Asakusa Wired house 5pax near by UENO/AKIHABARA</td>\n",
              "      <td>267481408</td>\n",
              "      <td>Hyongsu</td>\n",
              "      <td>NaN</td>\n",
              "      <td>Taito Ku</td>\n",
              "      <td>35.72464</td>\n",
              "      <td>139.78078</td>\n",
              "      <td>Entire home/apt</td>\n",
              "      <td>7747</td>\n",
              "      <td>1</td>\n",
              "      <td>0</td>\n",
              "      <td>NaN</td>\n",
              "      <td>NaN</td>\n",
              "    </tr>\n",
              "    <tr>\n",
              "      <th>11463</th>\n",
              "      <td>36084566</td>\n",
              "      <td>东京精品民宿</td>\n",
              "      <td>161702799</td>\n",
              "      <td>Yang</td>\n",
              "      <td>NaN</td>\n",
              "      <td>Toshima Ku</td>\n",
              "      <td>35.73587</td>\n",
              "      <td>139.73397</td>\n",
              "      <td>Private room</td>\n",
              "      <td>56275</td>\n",
              "      <td>1</td>\n",
              "      <td>0</td>\n",
              "      <td>NaN</td>\n",
              "      <td>NaN</td>\n",
              "    </tr>\n",
              "    <tr>\n",
              "      <th>11464</th>\n",
              "      <td>36085357</td>\n",
              "      <td>#4 DIRECT ACCESS TO DISNEY IN BUS! 3MIN TO STA...</td>\n",
              "      <td>208189463</td>\n",
              "      <td>Shotaro</td>\n",
              "      <td>NaN</td>\n",
              "      <td>Edogawa Ku</td>\n",
              "      <td>35.66255</td>\n",
              "      <td>139.87236</td>\n",
              "      <td>Entire home/apt</td>\n",
              "      <td>6456</td>\n",
              "      <td>1</td>\n",
              "      <td>0</td>\n",
              "      <td>NaN</td>\n",
              "      <td>NaN</td>\n",
              "    </tr>\n",
              "    <tr>\n",
              "      <th>11465</th>\n",
              "      <td>36086604</td>\n",
              "      <td>103号室:立地最高!駅近･買い物便利!改装したばかりの綺麗な和室です｡</td>\n",
              "      <td>254667806</td>\n",
              "      <td>新東明</td>\n",
              "      <td>NaN</td>\n",
              "      <td>Shinjuku Ku</td>\n",
              "      <td>35.69889</td>\n",
              "      <td>139.70544</td>\n",
              "      <td>Private room</td>\n",
              "      <td>7962</td>\n",
              "      <td>2</td>\n",
              "      <td>0</td>\n",
              "      <td>NaN</td>\n",
              "      <td>NaN</td>\n",
              "    </tr>\n",
              "  </tbody>\n",
              "</table>\n",
              "<p>11466 rows × 14 columns</p>\n",
              "</div>"
            ],
            "text/plain": [
              "             id  ... reviews_per_month\n",
              "0         35303  ...              0.20\n",
              "1        197677  ...              1.65\n",
              "2        289597  ...              1.25\n",
              "3        370759  ...              1.55\n",
              "4        700253  ...              1.24\n",
              "...         ...  ...               ...\n",
              "11461  36083287  ...               NaN\n",
              "11462  36083512  ...               NaN\n",
              "11463  36084566  ...               NaN\n",
              "11464  36085357  ...               NaN\n",
              "11465  36086604  ...               NaN\n",
              "\n",
              "[11466 rows x 14 columns]"
            ]
          },
          "metadata": {
            "tags": []
          },
          "execution_count": 57
        }
      ]
    },
    {
      "cell_type": "markdown",
      "metadata": {
        "id": "70Eg3CXzFnmM"
      },
      "source": [
        "**Data types**"
      ]
    },
    {
      "cell_type": "code",
      "metadata": {
        "colab": {
          "base_uri": "https://localhost:8080/"
        },
        "id": "G7Hj4reuFrSI",
        "outputId": "313cb8b3-112d-4edc-ba74-ae3ce4c04ca3"
      },
      "source": [
        "sample.info()"
      ],
      "execution_count": null,
      "outputs": [
        {
          "output_type": "stream",
          "text": [
            "<class 'pandas.core.frame.DataFrame'>\n",
            "RangeIndex: 11466 entries, 0 to 11465\n",
            "Data columns (total 14 columns):\n",
            " #   Column               Non-Null Count  Dtype  \n",
            "---  ------               --------------  -----  \n",
            " 0   id                   11466 non-null  int64  \n",
            " 1   name                 11466 non-null  object \n",
            " 2   host_id              11466 non-null  int64  \n",
            " 3   host_name            11450 non-null  object \n",
            " 4   neighbourhood_group  0 non-null      float64\n",
            " 5   neighbourhood        11466 non-null  object \n",
            " 6   latitude             11466 non-null  float64\n",
            " 7   longitude            11466 non-null  float64\n",
            " 8   room_type            11466 non-null  object \n",
            " 9   price                11466 non-null  int64  \n",
            " 10  minimum_nights       11466 non-null  int64  \n",
            " 11  number_of_reviews    11466 non-null  int64  \n",
            " 12  last_review          9789 non-null   object \n",
            " 13  reviews_per_month    9789 non-null   float64\n",
            "dtypes: float64(4), int64(5), object(5)\n",
            "memory usage: 1.2+ MB\n"
          ],
          "name": "stdout"
        }
      ]
    },
    {
      "cell_type": "markdown",
      "metadata": {
        "id": "SUjVcHJeDsm_"
      },
      "source": [
        "From the **info()** function non-null count is displaying 0. This means that there is no data. Hence, we can pop the neighbourhood_group."
      ]
    },
    {
      "cell_type": "code",
      "metadata": {
        "colab": {
          "base_uri": "https://localhost:8080/"
        },
        "id": "9owkhFaPE8NJ",
        "outputId": "362d4d09-a6c9-445f-fb79-b6c196ccc1ae"
      },
      "source": [
        "sample.pop(\"neighbourhood_group\")"
      ],
      "execution_count": null,
      "outputs": [
        {
          "output_type": "execute_result",
          "data": {
            "text/plain": [
              "0       NaN\n",
              "1       NaN\n",
              "2       NaN\n",
              "3       NaN\n",
              "4       NaN\n",
              "         ..\n",
              "11461   NaN\n",
              "11462   NaN\n",
              "11463   NaN\n",
              "11464   NaN\n",
              "11465   NaN\n",
              "Name: neighbourhood_group, Length: 11466, dtype: float64"
            ]
          },
          "metadata": {
            "tags": []
          },
          "execution_count": 59
        }
      ]
    },
    {
      "cell_type": "markdown",
      "metadata": {
        "id": "-jsW1LCFGcXU"
      },
      "source": [
        "After the neighbourhood_group has been popped, we continue to analyze the data. Using the **describe()** function we can know the **count**, **mean**, **min**, **max**, and etc."
      ]
    },
    {
      "cell_type": "code",
      "metadata": {
        "colab": {
          "base_uri": "https://localhost:8080/",
          "height": 297
        },
        "id": "KhRti3vnJq-g",
        "outputId": "68c9d1d9-ec0a-4418-ec6e-71dcb3d47116"
      },
      "source": [
        "sample.describe()"
      ],
      "execution_count": null,
      "outputs": [
        {
          "output_type": "execute_result",
          "data": {
            "text/html": [
              "<div>\n",
              "<style scoped>\n",
              "    .dataframe tbody tr th:only-of-type {\n",
              "        vertical-align: middle;\n",
              "    }\n",
              "\n",
              "    .dataframe tbody tr th {\n",
              "        vertical-align: top;\n",
              "    }\n",
              "\n",
              "    .dataframe thead th {\n",
              "        text-align: right;\n",
              "    }\n",
              "</style>\n",
              "<table border=\"1\" class=\"dataframe\">\n",
              "  <thead>\n",
              "    <tr style=\"text-align: right;\">\n",
              "      <th></th>\n",
              "      <th>id</th>\n",
              "      <th>host_id</th>\n",
              "      <th>latitude</th>\n",
              "      <th>longitude</th>\n",
              "      <th>price</th>\n",
              "      <th>minimum_nights</th>\n",
              "      <th>number_of_reviews</th>\n",
              "      <th>reviews_per_month</th>\n",
              "    </tr>\n",
              "  </thead>\n",
              "  <tbody>\n",
              "    <tr>\n",
              "      <th>count</th>\n",
              "      <td>1.146600e+04</td>\n",
              "      <td>1.146600e+04</td>\n",
              "      <td>11466.000000</td>\n",
              "      <td>11466.000000</td>\n",
              "      <td>1.146600e+04</td>\n",
              "      <td>11466.000000</td>\n",
              "      <td>11466.000000</td>\n",
              "      <td>9789.000000</td>\n",
              "    </tr>\n",
              "    <tr>\n",
              "      <th>mean</th>\n",
              "      <td>2.640545e+07</td>\n",
              "      <td>1.399776e+08</td>\n",
              "      <td>35.687159</td>\n",
              "      <td>139.734537</td>\n",
              "      <td>1.498470e+04</td>\n",
              "      <td>3.316239</td>\n",
              "      <td>26.028868</td>\n",
              "      <td>2.262540</td>\n",
              "    </tr>\n",
              "    <tr>\n",
              "      <th>std</th>\n",
              "      <td>7.565212e+06</td>\n",
              "      <td>8.064289e+07</td>\n",
              "      <td>0.217853</td>\n",
              "      <td>0.092771</td>\n",
              "      <td>3.327345e+04</td>\n",
              "      <td>7.766766</td>\n",
              "      <td>38.455449</td>\n",
              "      <td>1.744004</td>\n",
              "    </tr>\n",
              "    <tr>\n",
              "      <th>min</th>\n",
              "      <td>3.530300e+04</td>\n",
              "      <td>1.519770e+05</td>\n",
              "      <td>27.072330</td>\n",
              "      <td>139.130020</td>\n",
              "      <td>0.000000e+00</td>\n",
              "      <td>1.000000</td>\n",
              "      <td>0.000000</td>\n",
              "      <td>0.040000</td>\n",
              "    </tr>\n",
              "    <tr>\n",
              "      <th>25%</th>\n",
              "      <td>2.215251e+07</td>\n",
              "      <td>5.783171e+07</td>\n",
              "      <td>35.679620</td>\n",
              "      <td>139.698975</td>\n",
              "      <td>6.026000e+03</td>\n",
              "      <td>1.000000</td>\n",
              "      <td>2.000000</td>\n",
              "      <td>1.000000</td>\n",
              "    </tr>\n",
              "    <tr>\n",
              "      <th>50%</th>\n",
              "      <td>2.841873e+07</td>\n",
              "      <td>1.502326e+08</td>\n",
              "      <td>35.701910</td>\n",
              "      <td>139.729165</td>\n",
              "      <td>1.000700e+04</td>\n",
              "      <td>1.000000</td>\n",
              "      <td>12.000000</td>\n",
              "      <td>2.060000</td>\n",
              "    </tr>\n",
              "    <tr>\n",
              "      <th>75%</th>\n",
              "      <td>3.222416e+07</td>\n",
              "      <td>2.135896e+08</td>\n",
              "      <td>35.724215</td>\n",
              "      <td>139.784270</td>\n",
              "      <td>1.721600e+04</td>\n",
              "      <td>2.000000</td>\n",
              "      <td>32.000000</td>\n",
              "      <td>3.170000</td>\n",
              "    </tr>\n",
              "    <tr>\n",
              "      <th>max</th>\n",
              "      <td>3.608660e+07</td>\n",
              "      <td>2.714130e+08</td>\n",
              "      <td>35.832430</td>\n",
              "      <td>142.202880</td>\n",
              "      <td>1.000046e+06</td>\n",
              "      <td>180.000000</td>\n",
              "      <td>453.000000</td>\n",
              "      <td>51.210000</td>\n",
              "    </tr>\n",
              "  </tbody>\n",
              "</table>\n",
              "</div>"
            ],
            "text/plain": [
              "                 id       host_id  ...  number_of_reviews  reviews_per_month\n",
              "count  1.146600e+04  1.146600e+04  ...       11466.000000        9789.000000\n",
              "mean   2.640545e+07  1.399776e+08  ...          26.028868           2.262540\n",
              "std    7.565212e+06  8.064289e+07  ...          38.455449           1.744004\n",
              "min    3.530300e+04  1.519770e+05  ...           0.000000           0.040000\n",
              "25%    2.215251e+07  5.783171e+07  ...           2.000000           1.000000\n",
              "50%    2.841873e+07  1.502326e+08  ...          12.000000           2.060000\n",
              "75%    3.222416e+07  2.135896e+08  ...          32.000000           3.170000\n",
              "max    3.608660e+07  2.714130e+08  ...         453.000000          51.210000\n",
              "\n",
              "[8 rows x 8 columns]"
            ]
          },
          "metadata": {
            "tags": []
          },
          "execution_count": 60
        }
      ]
    },
    {
      "cell_type": "markdown",
      "metadata": {
        "id": "U6iWB_C5NFSj"
      },
      "source": [
        "# Number 2\n"
      ]
    },
    {
      "cell_type": "markdown",
      "metadata": {
        "id": "EIQlR4YzKeo7"
      },
      "source": [
        "Before we can identify the variables and determine each variables whether it is a *discrete* variable or *continuous* variable, we need to clean the data before hand. \n",
        "\n",
        "We can first check by searching for variables that are NaN."
      ]
    },
    {
      "cell_type": "code",
      "metadata": {
        "colab": {
          "base_uri": "https://localhost:8080/"
        },
        "id": "giSjeEp5-jSa",
        "outputId": "2261cca9-b82b-44b6-d759-b7d8b333fd9a"
      },
      "source": [
        "for x in sample:\n",
        "  print(x, \":\", sample[x].isna().values.any())"
      ],
      "execution_count": null,
      "outputs": [
        {
          "output_type": "stream",
          "text": [
            "id : False\n",
            "name : False\n",
            "host_id : False\n",
            "host_name : True\n",
            "neighbourhood : False\n",
            "latitude : False\n",
            "longitude : False\n",
            "room_type : False\n",
            "price : False\n",
            "minimum_nights : False\n",
            "number_of_reviews : False\n",
            "last_review : True\n",
            "reviews_per_month : True\n"
          ],
          "name": "stdout"
        }
      ]
    },
    {
      "cell_type": "markdown",
      "metadata": {
        "id": "W3ihyC_D-zxz"
      },
      "source": [
        "From the result above, **host_name**, **last_review**, and **reviews_per_month** have at least a NaN value. But, **host_name** is excluded because the entire column stores the name of the host which is a string (object) type. In the other hand, **last_review** and **reviews_per_month** can be filled with any value. My assumption is that both variables does not have any significant effect to the data. So, we can fill the NaN value with 0. "
      ]
    },
    {
      "cell_type": "code",
      "metadata": {
        "id": "ES3srEBo_uQr"
      },
      "source": [
        "sample = sample.fillna(value=0)"
      ],
      "execution_count": null,
      "outputs": []
    },
    {
      "cell_type": "markdown",
      "metadata": {
        "id": "85Z1zRvPAirj"
      },
      "source": [
        "After that, we can identify which variable is discrete and which one is continuous.\n",
        "\n",
        "Generally, discrete variables are variables that have distinct values. In the other hand, continuous variables are variables that is in a certain range, usually in a data type of float. \n",
        "\n",
        "We can conclude that **id**, **host_id**, **price**, **minimum_nights**, **number_of_reviews** are categorized as discrete variable. While **longitude**, **latitude**, and **reviews_per_month** are categorized as continuous variable. We can check this using the **unique()** function."
      ]
    },
    {
      "cell_type": "markdown",
      "metadata": {
        "id": "omuvhCUNG3Q5"
      },
      "source": [
        "***Discrete Variables***"
      ]
    },
    {
      "cell_type": "code",
      "metadata": {
        "colab": {
          "base_uri": "https://localhost:8080/"
        },
        "id": "cHAV36seESUp",
        "outputId": "b71257e4-cd65-49f8-87cb-08c38b2b314a"
      },
      "source": [
        "sample['id'].unique()"
      ],
      "execution_count": null,
      "outputs": [
        {
          "output_type": "execute_result",
          "data": {
            "text/plain": [
              "array([   35303,   197677,   289597, ..., 36084566, 36085357, 36086604])"
            ]
          },
          "metadata": {
            "tags": []
          },
          "execution_count": 63
        }
      ]
    },
    {
      "cell_type": "code",
      "metadata": {
        "colab": {
          "base_uri": "https://localhost:8080/"
        },
        "id": "yRZY8m3YGo20",
        "outputId": "71530a0a-2e2f-4447-affb-708e9980479a"
      },
      "source": [
        "sample['host_id'].unique()"
      ],
      "execution_count": null,
      "outputs": [
        {
          "output_type": "execute_result",
          "data": {
            "text/plain": [
              "array([   151977,    964081,    341577, ..., 267308886, 271413041,\n",
              "        51517847])"
            ]
          },
          "metadata": {
            "tags": []
          },
          "execution_count": 64
        }
      ]
    },
    {
      "cell_type": "code",
      "metadata": {
        "colab": {
          "base_uri": "https://localhost:8080/"
        },
        "id": "T_uX_DmbGsP_",
        "outputId": "ae33e192-e917-4d19-c5d6-a7531bc51f1e"
      },
      "source": [
        "sample['minimum_nights'].unique()"
      ],
      "execution_count": null,
      "outputs": [
        {
          "output_type": "execute_result",
          "data": {
            "text/plain": [
              "array([ 28,   3,  30,  29,   1,   5,   2,   4,   7,  35,   6,  14,  31,\n",
              "        10, 180, 120,  21,  20,  32,  50,   8,  15,  60,  90,  55,  23,\n",
              "        24,  13, 179,  26])"
            ]
          },
          "metadata": {
            "tags": []
          },
          "execution_count": 65
        }
      ]
    },
    {
      "cell_type": "code",
      "metadata": {
        "colab": {
          "base_uri": "https://localhost:8080/"
        },
        "id": "2iHZhEyoGxWY",
        "outputId": "905a9949-1d00-41b2-ef55-7ba71b60f35d"
      },
      "source": [
        "sample['number_of_reviews'].unique()"
      ],
      "execution_count": null,
      "outputs": [
        {
          "output_type": "execute_result",
          "data": {
            "text/plain": [
              "array([ 18, 156, 107,  99, 101, 215,  41,  90, 175,  85, 200, 233,  73,\n",
              "        86, 127,  49, 306, 144, 197, 218, 213, 271, 147, 118, 151, 124,\n",
              "         5,  71, 274,  22,   0,  17, 160,   7,  14,  70,  78, 140,  67,\n",
              "       183,  27,  62,   6,   3, 103, 105,  50, 138, 109,  77, 296,  44,\n",
              "       113,  89, 119,  55,  54, 141,  58,  76,  34,  42,  10,  25, 188,\n",
              "       187,  63, 251, 167,  82, 110,  30,  53, 120,  39, 171, 417,  66,\n",
              "       112, 293, 180,  21,  19,  11,  43,  32, 239, 208, 219,  28,  15,\n",
              "        47,  37, 130, 223, 194, 177, 166, 106, 173, 255, 235, 134, 211,\n",
              "       244, 212,  87,  38,   4,  69, 182,   2, 117,  75, 164,  97, 207,\n",
              "        74,  26,  52, 121, 265,  94,  23,  12,  72, 181, 169,  13,   8,\n",
              "         9, 178, 168, 172, 135, 128, 184, 259,  36,  46, 163, 123, 158,\n",
              "        64,  60, 230, 203, 179,  84, 149, 243, 199,  35,  40, 206,  93,\n",
              "       100, 115, 133,  24, 143,  29,  98, 191, 131, 246, 125, 136, 224,\n",
              "       238, 228, 176, 262, 409, 198,  33,  56,  20, 222, 229, 209, 142,\n",
              "        80,  31,  59, 210, 190, 189, 122, 204, 195,  57, 108, 137,  68,\n",
              "        65, 232, 253,  88, 193, 154, 155,  48, 116, 161, 205,   1, 192,\n",
              "       146, 132, 114, 150, 104, 231,  95,  61, 111,  96,  16, 185, 129,\n",
              "        91,  45,  92, 202, 148, 221,  51, 157, 153,  83, 152, 186,  81,\n",
              "       214, 159, 139, 145,  79, 196, 201, 217, 102, 254, 162, 174, 170,\n",
              "       126, 298, 453, 256])"
            ]
          },
          "metadata": {
            "tags": []
          },
          "execution_count": 66
        }
      ]
    },
    {
      "cell_type": "markdown",
      "metadata": {
        "id": "Ccb7N3jlG7fO"
      },
      "source": [
        "***Continuous Variables***"
      ]
    },
    {
      "cell_type": "code",
      "metadata": {
        "colab": {
          "base_uri": "https://localhost:8080/"
        },
        "id": "YH-XD4ALG6_i",
        "outputId": "43fae83d-f83f-4aa8-c512-03c930851420"
      },
      "source": [
        "sample['longitude'].unique()"
      ],
      "execution_count": null,
      "outputs": [
        {
          "output_type": "execute_result",
          "data": {
            "text/plain": [
              "array([139.71203, 139.82596, 139.6581 , ..., 139.6898 , 139.78078,\n",
              "       139.87236])"
            ]
          },
          "metadata": {
            "tags": []
          },
          "execution_count": 67
        }
      ]
    },
    {
      "cell_type": "code",
      "metadata": {
        "colab": {
          "base_uri": "https://localhost:8080/"
        },
        "id": "-omQzdojHIIw",
        "outputId": "52e04cb7-d078-42e6-a68c-d6e0a8dea4e8"
      },
      "source": [
        "sample['latitude'].unique()"
      ],
      "execution_count": null,
      "outputs": [
        {
          "output_type": "execute_result",
          "data": {
            "text/plain": [
              "array([35.67152, 35.71721, 35.74267, ..., 35.74279, 35.70656, 35.69889])"
            ]
          },
          "metadata": {
            "tags": []
          },
          "execution_count": 68
        }
      ]
    },
    {
      "cell_type": "code",
      "metadata": {
        "colab": {
          "base_uri": "https://localhost:8080/"
        },
        "id": "rZwn3hHNHLQf",
        "outputId": "869e0b7e-8233-4105-ee2b-f7daf491ebbb"
      },
      "source": [
        "sample['reviews_per_month'].unique()"
      ],
      "execution_count": null,
      "outputs": [
        {
          "output_type": "execute_result",
          "data": {
            "text/plain": [
              "array([2.000e-01, 1.650e+00, 1.250e+00, 1.550e+00, 1.240e+00, 2.680e+00,\n",
              "       5.400e-01, 1.160e+00, 2.310e+00, 2.650e+00, 2.640e+00, 3.310e+00,\n",
              "       1.020e+00, 1.220e+00, 1.750e+00, 2.400e+00, 6.900e-01, 4.190e+00,\n",
              "       2.070e+00, 2.750e+00, 3.090e+00, 2.980e+00, 3.780e+00, 2.080e+00,\n",
              "       1.680e+00, 2.140e+00, 1.770e+00, 6.000e-01, 4.300e-01, 1.110e+00,\n",
              "       3.960e+00, 3.360e+00, 3.300e-01, 0.000e+00, 3.190e+00, 2.500e-01,\n",
              "       1.570e+00, 2.380e+00, 3.250e+00, 1.300e-01, 2.700e-01, 2.290e+00,\n",
              "       1.070e+00, 2.190e+00, 1.050e+00, 1.210e+00, 1.100e+00, 4.120e+00,\n",
              "       4.700e-01, 1.280e+00, 1.200e-01, 3.510e+00, 3.800e-01, 6.000e-02,\n",
              "       1.720e+00, 8.400e-01, 2.260e+00, 1.880e+00, 1.340e+00, 4.830e+00,\n",
              "       9.600e-01, 1.900e+00, 1.470e+00, 1.990e+00, 1.150e+00, 9.300e-01,\n",
              "       2.330e+00, 9.900e-01, 2.990e+00, 5.700e-01, 1.100e-01, 8.100e-01,\n",
              "       1.800e-01, 3.290e+00, 1.330e+00, 4.290e+00, 2.880e+00, 2.100e+00,\n",
              "       5.300e-01, 9.400e-01, 2.340e+00, 2.520e+00, 2.960e+00, 7.240e+00,\n",
              "       1.300e+00, 1.980e+00, 5.100e+00, 3.540e+00, 3.140e+00, 8.600e-01,\n",
              "       3.700e-01, 1.480e+00, 2.350e+00, 5.900e-01, 4.900e-01, 3.720e+00,\n",
              "       3.930e+00, 5.000e-02, 1.310e+00, 5.010e+00, 7.200e-01, 2.460e+00,\n",
              "       4.220e+00, 3.560e+00, 3.260e+00, 3.030e+00, 1.930e+00, 5.000e-01,\n",
              "       1.700e-01, 3.270e+00, 4.720e+00, 4.360e+00, 3.450e+00, 4.330e+00,\n",
              "       4.530e+00, 1.740e+00, 7.100e-01, 8.000e-02, 1.260e+00, 3.410e+00,\n",
              "       2.940e+00, 3.650e+00, 1.420e+00, 3.180e+00, 2.790e+00, 8.300e-01,\n",
              "       1.830e+00, 3.950e+00, 1.800e+00, 1.120e+00, 2.360e+00, 5.110e+00,\n",
              "       9.700e-01, 1.190e+00, 1.810e+00, 2.420e+00, 4.500e-01, 2.300e-01,\n",
              "       1.380e+00, 5.360e+00, 2.200e-01, 1.500e-01, 4.100e-01, 3.860e+00,\n",
              "       2.600e-01, 3.470e+00, 3.240e+00, 3.320e+00, 2.320e+00, 1.760e+00,\n",
              "       1.600e-01, 2.400e-01, 2.580e+00, 5.200e-01, 3.640e+00, 5.320e+00,\n",
              "       3.430e+00, 7.400e-01, 9.100e-01, 2.000e+00, 1.490e+00, 3.220e+00,\n",
              "       3.210e+00, 3.520e+00, 1.060e+00, 4.440e+00, 3.200e+00, 2.160e+00,\n",
              "       8.500e-01, 4.590e+00, 1.510e+00, 4.270e+00, 1.730e+00, 3.570e+00,\n",
              "       1.690e+00, 8.900e-01, 3.460e+00, 1.580e+00, 2.770e+00, 4.890e+00,\n",
              "       4.110e+00, 6.500e-01, 2.040e+00, 2.090e+00, 2.440e+00, 2.500e+00,\n",
              "       2.370e+00, 2.240e+00, 1.130e+00, 5.800e-01, 2.820e+00, 9.200e-01,\n",
              "       8.000e-01, 2.540e+00, 2.050e+00, 3.990e+00, 2.730e+00, 5.070e+00,\n",
              "       2.590e+00, 1.040e+00, 4.800e-01, 2.840e+00, 9.500e-01, 2.850e+00,\n",
              "       2.560e+00, 4.670e+00, 1.400e+00, 1.610e+00, 5.280e+00, 3.740e+00,\n",
              "       4.780e+00, 5.510e+00, 8.520e+00, 4.170e+00, 1.180e+00, 4.130e+00,\n",
              "       1.030e+00, 3.080e+00, 4.650e+00, 4.560e+00, 4.380e+00, 3.620e+00,\n",
              "       3.060e+00, 1.790e+00, 7.300e-01, 4.420e+00, 6.400e-01, 3.850e+00,\n",
              "       7.600e-01, 1.530e+00, 4.040e+00, 2.600e+00, 2.830e+00, 8.800e-01,\n",
              "       3.590e+00, 2.690e+00, 1.640e+00, 5.240e+00, 4.700e+00, 1.350e+00,\n",
              "       3.050e+00, 6.100e-01, 2.630e+00, 1.430e+00, 3.530e+00, 4.090e+00,\n",
              "       2.710e+00, 1.780e+00, 4.460e+00, 3.900e-01, 3.110e+00, 1.540e+00,\n",
              "       2.910e+00, 3.770e+00, 1.620e+00, 9.000e-01, 5.130e+00, 2.670e+00,\n",
              "       4.300e+00, 4.150e+00, 3.750e+00, 4.400e+00, 2.900e+00, 4.070e+00,\n",
              "       2.430e+00, 2.410e+00, 2.210e+00, 3.020e+00, 1.600e+00, 1.590e+00,\n",
              "       1.440e+00, 5.840e+00, 2.220e+00, 5.660e+00, 4.050e+00, 1.950e+00,\n",
              "       4.880e+00, 5.060e+00, 3.490e+00, 2.660e+00, 2.450e+00, 1.860e+00,\n",
              "       2.920e+00, 5.200e+00, 5.230e+00, 2.250e+00, 7.800e-01, 7.700e-01,\n",
              "       3.790e+00, 3.120e+00, 2.100e-01, 1.400e-01, 2.780e+00, 3.680e+00,\n",
              "       2.130e+00, 5.150e+00, 4.950e+00, 1.910e+00, 2.180e+00, 4.520e+00,\n",
              "       2.760e+00, 1.670e+00, 2.800e-01, 1.170e+00, 3.400e+00, 2.060e+00,\n",
              "       2.870e+00, 1.410e+00, 1.700e+00, 4.480e+00, 5.190e+00, 7.900e-01,\n",
              "       3.610e+00, 1.970e+00, 5.410e+00, 1.850e+00, 3.130e+00, 4.550e+00,\n",
              "       6.200e-01, 2.300e+00, 2.280e+00, 1.940e+00, 3.800e+00, 3.600e-01,\n",
              "       7.000e-02, 2.530e+00, 3.440e+00, 4.400e-01, 4.060e+00, 3.830e+00,\n",
              "       2.810e+00, 1.010e+00, 1.660e+00, 3.380e+00, 9.800e-01, 4.570e+00,\n",
              "       2.720e+00, 4.010e+00, 3.500e+00, 4.910e+00, 5.020e+00, 4.960e+00,\n",
              "       3.900e+00, 4.200e+00, 6.030e+00, 4.470e+00, 2.470e+00, 3.010e+00,\n",
              "       3.100e+00, 4.080e+00, 3.660e+00, 2.230e+00, 2.930e+00, 4.810e+00,\n",
              "       4.900e+00, 3.000e-01, 4.600e-01, 5.140e+00, 5.620e+00, 3.280e+00,\n",
              "       2.390e+00, 1.360e+00, 2.610e+00, 3.000e+00, 3.630e+00, 2.620e+00,\n",
              "       3.160e+00, 3.600e+00, 3.810e+00, 6.300e-01, 3.300e+00, 5.600e-01,\n",
              "       5.090e+00, 4.870e+00, 3.880e+00, 3.870e+00, 5.870e+00, 5.270e+00,\n",
              "       3.200e-01, 4.930e+00, 5.000e+00, 4.860e+00, 5.880e+00, 5.830e+00,\n",
              "       6.600e-01, 6.700e-01, 3.940e+00, 3.920e+00, 4.230e+00, 5.260e+00,\n",
              "       5.210e+00, 3.890e+00, 9.000e-02, 3.330e+00, 2.020e+00, 5.500e-01,\n",
              "       3.910e+00, 4.710e+00, 3.840e+00, 3.710e+00, 4.260e+00, 4.000e-01,\n",
              "       4.730e+00, 3.400e-01, 1.820e+00, 1.140e+00, 1.200e+00, 3.350e+00,\n",
              "       2.510e+00, 5.330e+00, 2.550e+00, 1.230e+00, 2.950e+00, 3.150e+00,\n",
              "       4.990e+00, 5.350e+00, 4.490e+00, 3.040e+00, 3.500e-01, 5.490e+00,\n",
              "       2.480e+00, 5.560e+00, 1.890e+00, 3.820e+00, 3.690e+00, 1.460e+00,\n",
              "       3.070e+00, 2.200e+00, 4.370e+00, 2.150e+00, 5.340e+00, 4.180e+00,\n",
              "       5.120e+00, 1.000e-01, 1.960e+00, 1.080e+00, 1.560e+00, 4.410e+00,\n",
              "       2.120e+00, 4.750e+00, 3.420e+00, 2.490e+00, 5.630e+00, 7.640e+00,\n",
              "       3.340e+00, 4.940e+00, 4.450e+00, 5.310e+00, 7.500e-01, 4.340e+00,\n",
              "       5.990e+00, 1.450e+00, 1.290e+00, 5.960e+00, 4.850e+00, 4.160e+00,\n",
              "       2.570e+00, 2.270e+00, 4.280e+00, 1.710e+00, 3.970e+00, 5.690e+00,\n",
              "       3.480e+00, 3.170e+00, 1.920e+00, 2.010e+00, 8.700e-01, 3.980e+00,\n",
              "       6.130e+00, 2.890e+00, 4.620e+00, 4.350e+00, 4.580e+00, 6.530e+00,\n",
              "       1.870e+00, 1.270e+00, 2.170e+00, 5.160e+00, 8.200e-01, 5.100e-01,\n",
              "       3.670e+00, 1.520e+00, 1.000e+00, 4.740e+00, 1.840e+00, 5.220e+00,\n",
              "       5.040e+00, 4.510e+00, 4.680e+00, 4.000e-02, 2.030e+00, 5.180e+00,\n",
              "       2.740e+00, 3.230e+00, 1.900e-01, 1.390e+00, 2.700e+00, 4.000e+00,\n",
              "       3.700e+00, 2.900e-01, 6.970e+00, 7.470e+00, 5.520e+00, 7.020e+00,\n",
              "       1.630e+00, 5.640e+00, 2.110e+00, 2.800e+00, 3.370e+00, 5.700e+00,\n",
              "       5.030e+00, 1.370e+00, 5.440e+00, 2.970e+00, 3.390e+00, 4.790e+00,\n",
              "       6.710e+00, 4.200e-01, 5.580e+00, 3.580e+00, 3.100e-01, 8.270e+00,\n",
              "       3.730e+00, 7.030e+00, 7.000e-01, 1.500e+00, 4.100e+00, 1.320e+00,\n",
              "       6.580e+00, 1.090e+00, 4.140e+00, 4.020e+00, 8.300e+00, 4.500e+00,\n",
              "       1.767e+01, 5.050e+00, 5.390e+00, 2.860e+00, 4.250e+00, 4.760e+00,\n",
              "       3.760e+00, 3.550e+00, 5.900e+00, 4.770e+00, 5.710e+00, 5.290e+00,\n",
              "       4.310e+00, 4.240e+00, 7.520e+00, 4.540e+00, 6.800e-01, 7.600e+00,\n",
              "       4.030e+00, 7.530e+00, 4.980e+00, 5.250e+00, 4.430e+00, 5.790e+00,\n",
              "       5.890e+00, 7.110e+00, 1.038e+01, 1.130e+01, 6.720e+00, 6.210e+00,\n",
              "       4.970e+00, 5.570e+00, 7.940e+00, 5.460e+00, 7.010e+00, 1.346e+01,\n",
              "       1.451e+01, 1.045e+01, 6.220e+00, 6.140e+00, 1.227e+01, 5.450e+00,\n",
              "       7.150e+00, 7.230e+00, 6.680e+00, 4.610e+00, 4.840e+00, 6.780e+00,\n",
              "       1.194e+01, 6.020e+00, 4.515e+01, 5.121e+01, 6.310e+00, 4.210e+00,\n",
              "       7.780e+00, 5.170e+00, 6.700e+00, 7.370e+00, 1.452e+01, 2.369e+01,\n",
              "       1.763e+01, 1.548e+01, 1.198e+01, 5.380e+00, 6.120e+00, 5.970e+00,\n",
              "       4.320e+00, 6.000e+00, 4.630e+00, 9.020e+00, 4.600e+00, 6.560e+00,\n",
              "       5.080e+00, 6.990e+00, 5.550e+00, 5.610e+00, 5.800e+00, 4.800e+00,\n",
              "       4.690e+00, 6.940e+00, 5.540e+00, 5.810e+00, 1.123e+01, 5.670e+00,\n",
              "       5.590e+00, 2.373e+01, 5.920e+00, 6.790e+00, 9.170e+00, 7.720e+00,\n",
              "       8.680e+00, 5.910e+00, 5.470e+00, 6.840e+00, 7.260e+00, 6.520e+00,\n",
              "       4.390e+00, 5.720e+00, 6.060e+00, 7.460e+00, 4.640e+00, 6.410e+00,\n",
              "       6.550e+00, 6.320e+00, 5.940e+00, 5.820e+00, 3.938e+01, 5.500e+00,\n",
              "       5.400e+00, 6.170e+00, 4.920e+00, 6.570e+00, 5.420e+00, 5.300e+00,\n",
              "       5.600e+00, 4.660e+00, 6.330e+00, 5.950e+00, 5.850e+00, 7.390e+00,\n",
              "       6.360e+00, 5.430e+00, 6.490e+00, 6.230e+00, 1.481e+01, 7.360e+00,\n",
              "       6.430e+00, 7.680e+00, 6.280e+00, 5.740e+00, 1.140e+01, 6.920e+00,\n",
              "       6.690e+00, 6.150e+00, 8.250e+00, 1.364e+01, 1.718e+01, 2.328e+01,\n",
              "       7.090e+00, 7.500e+00, 7.590e+00, 6.450e+00, 5.650e+00, 7.210e+00,\n",
              "       5.480e+00, 9.400e+00, 6.960e+00, 7.200e+00, 1.100e+01, 6.500e+00,\n",
              "       7.120e+00, 8.460e+00, 5.680e+00, 9.000e+00, 6.750e+00, 6.180e+00,\n",
              "       1.000e+01, 7.000e+00, 5.530e+00])"
            ]
          },
          "metadata": {
            "tags": []
          },
          "execution_count": 69
        }
      ]
    },
    {
      "cell_type": "markdown",
      "metadata": {
        "id": "7nQ_BqROImyJ"
      },
      "source": [
        "Finally, we can plot the variables. I am using seaborn to plot the variables."
      ]
    },
    {
      "cell_type": "code",
      "metadata": {
        "colab": {
          "base_uri": "https://localhost:8080/",
          "height": 878
        },
        "id": "5MnD7Ye9Irt8",
        "outputId": "a0361e0b-1a54-4ef2-af1c-ea3b807fa4cd"
      },
      "source": [
        "column=['id', 'host_id', 'latitude', 'longitude', 'price', 'minimum_nights', 'number_of_reviews', 'reviews_per_momth']\n",
        "plt.figure(figsize=(15, 15))\n",
        "for j in range(1,8):\n",
        "    plt.subplot(2,4,j)\n",
        "    sns.histplot(sample[column[j-1]], kde=True, color=\"royalblue\")"
      ],
      "execution_count": null,
      "outputs": [
        {
          "output_type": "display_data",
          "data": {
            "image/png": "[encoded data removed]",
            "text/plain": [
              "<Figure size 1080x1080 with 7 Axes>"
            ]
          },
          "metadata": {
            "tags": [],
            "needs_background": "light"
          }
        }
      ]
    },
    {
      "cell_type": "markdown",
      "metadata": {
        "id": "z80Mr9jPNG9_"
      },
      "source": [
        "# Number 3"
      ]
    },
    {
      "cell_type": "markdown",
      "metadata": {
        "id": "99JIwbfkLVvv"
      },
      "source": [
        "To further strengthen our understanding of the data, we can use correlation matrix. It is used so that we can determine which variable is **Y** and which one is effecting Y. I use seaborn to visualize the correlation matrix.\n",
        "\n",
        "Before we do that, we can drop some variables such as **id** and **host_id**. This is due to the fact that they will not serve any purpose on predicting the model.\n",
        "\n",
        "We can also convert the **room_type** variable from object to int by setting a number to each room type."
      ]
    },
    {
      "cell_type": "code",
      "metadata": {
        "colab": {
          "base_uri": "https://localhost:8080/"
        },
        "id": "eGkk0qEPkWVE",
        "outputId": "bdc89c71-7f71-4edd-cfe6-2ed18ba2f871"
      },
      "source": [
        "sample['room_type'].unique()"
      ],
      "execution_count": null,
      "outputs": [
        {
          "output_type": "execute_result",
          "data": {
            "text/plain": [
              "array(['Private room', 'Entire home/apt', 'Shared room'], dtype=object)"
            ]
          },
          "metadata": {
            "tags": []
          },
          "execution_count": 71
        }
      ]
    },
    {
      "cell_type": "markdown",
      "metadata": {
        "id": "ue4EFFd_kcOU"
      },
      "source": [
        "Since the data only have 3 types, we can assign each type into a number from 0 to 2"
      ]
    },
    {
      "cell_type": "code",
      "metadata": {
        "id": "pX3lL5ZWkjOO"
      },
      "source": [
        "value = {'Entire home/apt':1,'Private room':2,'Shared room':3}\n",
        "sample['room_type'] = sample['room_type'].map(value)"
      ],
      "execution_count": null,
      "outputs": []
    },
    {
      "cell_type": "markdown",
      "metadata": {
        "id": "-hwhRmL5k-Dl"
      },
      "source": [
        "**Dropping id and host_id**"
      ]
    },
    {
      "cell_type": "code",
      "metadata": {
        "colab": {
          "base_uri": "https://localhost:8080/"
        },
        "id": "-OPl0gGDMoNt",
        "outputId": "5e0b45a1-9bfa-45a7-bbff-e6c36e2e6e47"
      },
      "source": [
        "sample.pop('id')\n",
        "sample.pop('host_id')"
      ],
      "execution_count": null,
      "outputs": [
        {
          "output_type": "execute_result",
          "data": {
            "text/plain": [
              "0           151977\n",
              "1           964081\n",
              "2           341577\n",
              "3          1573631\n",
              "4           341577\n",
              "           ...    \n",
              "11461    235406925\n",
              "11462    267481408\n",
              "11463    161702799\n",
              "11464    208189463\n",
              "11465    254667806\n",
              "Name: host_id, Length: 11466, dtype: int64"
            ]
          },
          "metadata": {
            "tags": []
          },
          "execution_count": 73
        }
      ]
    },
    {
      "cell_type": "markdown",
      "metadata": {
        "id": "SliuQcGglEJZ"
      },
      "source": [
        "**Visualizing the correlation matrix using seaborn**"
      ]
    },
    {
      "cell_type": "code",
      "metadata": {
        "colab": {
          "base_uri": "https://localhost:8080/",
          "height": 373
        },
        "id": "gm7KK5N6KK6_",
        "outputId": "970dc092-c7f1-449b-fc43-4876283b85d7"
      },
      "source": [
        "cmatrix = sample.corr()\n",
        "sns.heatmap(data = cmatrix, annot=True)"
      ],
      "execution_count": null,
      "outputs": [
        {
          "output_type": "execute_result",
          "data": {
            "text/plain": [
              "<matplotlib.axes._subplots.AxesSubplot at 0x7f2ac8e3ee10>"
            ]
          },
          "metadata": {
            "tags": []
          },
          "execution_count": 74
        },
        {
          "output_type": "display_data",
          "data": {
            "image/png": "[encoded data removed]",
            "text/plain": [
              "<Figure size 432x288 with 2 Axes>"
            ]
          },
          "metadata": {
            "tags": [],
            "needs_background": "light"
          }
        }
      ]
    },
    {
      "cell_type": "markdown",
      "metadata": {
        "id": "U9klAPGTNprs"
      },
      "source": [
        "**a**. From the correlation matrix above, I concluded that the **Y** is the **reviews_per_month** since it has a strong correlation with other variables. This is due to the fact that the closer it is to a **1**, the stronger the correlation. \n",
        "\n",
        "**b**. **The predictor** of Y are **latitude**, **price**, and **number_of_reviews**. This is due to the fact that they have a stronger correlation than **longitude**, **room_type**, and **minimum_nights**.\n",
        "\n",
        "**c**. As previously mentioned,**longitude**, **room_type**, and **minimum_nights** are the variables that does not have a strong correlation with **reviews_per_month** since they have negative values. Furthermore, both variables have negative values which are not a good predictor candidate.  "
      ]
    },
    {
      "cell_type": "markdown",
      "metadata": {
        "id": "ekKR9eloNIr2"
      },
      "source": [
        "# Number 4"
      ]
    },
    {
      "cell_type": "markdown",
      "metadata": {
        "id": "qdCPyLZOWzsj"
      },
      "source": [
        "Before making a model using Linear Regression, we have to assign the **Y** and **the predictors** of Y to a variable. In this case **Y** is assigned to Y and **the predictors** is assigned to X.\n",
        "\n",
        "The **train_test_split** function has a purpose to split the arrays into random train and test subsets.\n",
        "In this case, the test size is 20% of data with a random state of 42 to maintain the reproducibility of the data."
      ]
    },
    {
      "cell_type": "code",
      "metadata": {
        "id": "J68-P9Q4QEas"
      },
      "source": [
        "X = sample[[\"latitude\", \"price\", \"number_of_reviews\"]]\n",
        "Y = sample[\"reviews_per_month\"]\n",
        "XTrain, XTest, YTrain, YTest = train_test_split(X,Y, test_size = 0.2, random_state = 42)"
      ],
      "execution_count": null,
      "outputs": []
    },
    {
      "cell_type": "markdown",
      "metadata": {
        "id": "jGrn7JvanjwE"
      },
      "source": [
        "We use the **LinearRegression()** function to make a model using the **.fit** function. Then, we put the test data into the model that we have made using the **.predict** function.\n",
        "\n",
        "After that, I made an empty array to store the values of the coefficient and the intercept namely theta. Then, use the **.coef_** and **.intercept_** function. These can be used as the theta to predict the model. \n",
        "\n",
        "**.score** function returns the coefficient of determination r2 of the prediction."
      ]
    },
    {
      "cell_type": "code",
      "metadata": {
        "colab": {
          "base_uri": "https://localhost:8080/"
        },
        "id": "YccREUgPQhLa",
        "outputId": "afb615f9-6773-478d-f329-e7ca509a3a6b"
      },
      "source": [
        "LRM = LinearRegression().fit(XTrain, YTrain)\n",
        "prediction = LRM.predict(XTest)\n",
        "\n",
        "print(prediction)\n",
        "\n",
        "theta = np.zeros(4)\n",
        "theta = LRM.coef_\n",
        "theta = np.insert(theta, 0, LRM.intercept_, axis=0)\n",
        "\n",
        "for i, data in enumerate(theta):\n",
        "  print(\"Theta \",i,\":\",data)\n",
        "\n",
        "LRM.score(XTest, YTest)"
      ],
      "execution_count": null,
      "outputs": [
        {
          "output_type": "stream",
          "text": [
            "[1.35326985 1.30544273 1.32039096 ... 1.41413834 1.30558404 2.07708646]\n",
            "Theta  0 : -6.559473408640178\n",
            "Theta  1 : 0.21932289419047735\n",
            "Theta  2 : 7.116376292458989e-07\n",
            "Theta  3 : 0.025442488257217566\n"
          ],
          "name": "stdout"
        },
        {
          "output_type": "execute_result",
          "data": {
            "text/plain": [
              "0.31637806844357974"
            ]
          },
          "metadata": {
            "tags": []
          },
          "execution_count": 83
        }
      ]
    },
    {
      "cell_type": "markdown",
      "metadata": {
        "id": "hRA68et4NKMd"
      },
      "source": [
        "# Number 5"
      ]
    },
    {
      "cell_type": "markdown",
      "metadata": {
        "id": "jULZu28Ou35J"
      },
      "source": [
        "I am going to use R2 score, mean absolute error, and mean squared error as the evaluation metrics"
      ]
    },
    {
      "cell_type": "code",
      "metadata": {
        "colab": {
          "base_uri": "https://localhost:8080/"
        },
        "id": "9MmyfUOS1EdO",
        "outputId": "56d045b4-d659-4188-bf87-35ee818821a4"
      },
      "source": [
        "print(\"R2  :\", r2_score(YTest, prediction))\n",
        "print(\"MAE :\", mean_absolute_error(YTest, prediction))\n",
        "print(\"MSE :\", mean_squared_error(YTest, prediction))"
      ],
      "execution_count": null,
      "outputs": [
        {
          "output_type": "stream",
          "text": [
            "R2  : 0.31637806844357974\n",
            "MAE : 1.0806666063534978\n",
            "MSE : 1.8231955820013852\n"
          ],
          "name": "stdout"
        }
      ]
    },
    {
      "cell_type": "markdown",
      "metadata": {
        "id": "ugAuQDQYNLtW"
      },
      "source": [
        "# Number 6"
      ]
    },
    {
      "cell_type": "markdown",
      "metadata": {
        "id": "TahDLOnfAEpo"
      },
      "source": [
        "## a."
      ]
    },
    {
      "cell_type": "markdown",
      "metadata": {
        "id": "0Bm_pWkpAJ23"
      },
      "source": [
        "I am going to compare the score between univariate linear regression (one variable) and multivariate linear regression (multiple variable). First, we predict the data using the multivariate linear regression model that we have made followed by a new univariate linear regression."
      ]
    },
    {
      "cell_type": "markdown",
      "metadata": {
        "id": "tliEeQO4A5RB"
      },
      "source": [
        "***Predict the data using multivariate linear regression***"
      ]
    },
    {
      "cell_type": "code",
      "metadata": {
        "colab": {
          "base_uri": "https://localhost:8080/"
        },
        "id": "PW74YgVv4HCT",
        "outputId": "fb88cefa-4dee-4489-f763-5ebddccd3047"
      },
      "source": [
        "latitude = [35.74267, 35.66255, 35.67152, 35.69889]\n",
        "price = [4196, 3981, 7747, 10975]\n",
        "number_of_reviews = [1.55, 1.24, 1.65, 1.25]\n",
        "rpm = np.zeros(4)\n",
        "for i in range(4):\n",
        "  rpm[i] = theta[0] + theta[1] * latitude[i] + theta[2] * price[i] + theta[3] * number_of_reviews[i]\n",
        "  print(\"Reviews per month \",i+1,\": \", rpm[i])\n",
        "\n",
        "print(\"R2  :\", r2_score(YTest, prediction))"
      ],
      "execution_count": null,
      "outputs": [
        {
          "output_type": "stream",
          "text": [
            "Reviews per month  1 :  1.3221343101459726\n",
            "Reviews per month  2 :  1.2965219864134077\n",
            "Reviews per month  3 :  1.311600760271495\n",
            "Reviews per month  4 :  1.3097237988498074\n",
            "R2  : 0.31637806844357974\n"
          ],
          "name": "stdout"
        }
      ]
    },
    {
      "cell_type": "markdown",
      "metadata": {
        "id": "VsuR0GRQCgrX"
      },
      "source": [
        "Now, lets use univariate linear regression"
      ]
    },
    {
      "cell_type": "code",
      "metadata": {
        "colab": {
          "base_uri": "https://localhost:8080/",
          "height": 373
        },
        "id": "OUFMzzpnCi6w",
        "outputId": "e7da70dc-ba97-4e94-e70b-f3b450da83fc"
      },
      "source": [
        "sns.heatmap(data = cmatrix, annot = True)"
      ],
      "execution_count": null,
      "outputs": [
        {
          "output_type": "execute_result",
          "data": {
            "text/plain": [
              "<matplotlib.axes._subplots.AxesSubplot at 0x7f2ac8922550>"
            ]
          },
          "metadata": {
            "tags": []
          },
          "execution_count": 88
        },
        {
          "output_type": "display_data",
          "data": {
            "image/png": "[encoded data removed]",
            "text/plain": [
              "<Figure size 432x288 with 2 Axes>"
            ]
          },
          "metadata": {
            "tags": [],
            "needs_background": "light"
          }
        }
      ]
    },
    {
      "cell_type": "markdown",
      "metadata": {
        "id": "l_TMmhK8EcHz"
      },
      "source": [
        "From the correlation matrix above, we can conclude that **number_of_reviews** has the strongest correlation with our **Y**. Therefore, the best descriptor of **Y** is **number_of_reviews**."
      ]
    },
    {
      "cell_type": "markdown",
      "metadata": {
        "id": "qIjLrataEx_D"
      },
      "source": [
        "***Univariate Linear Regression***"
      ]
    },
    {
      "cell_type": "code",
      "metadata": {
        "id": "qiy2p7ACE2en"
      },
      "source": [
        "X = sample[[\"number_of_reviews\"]]\n",
        "Y = sample[\"reviews_per_month\"]\n",
        "XTrain, XTest, YTrain, YTest = train_test_split(X,Y, test_size = 0.2, random_state = 42)"
      ],
      "execution_count": null,
      "outputs": []
    },
    {
      "cell_type": "markdown",
      "metadata": {
        "id": "fH00-RiMGn6Q"
      },
      "source": [
        "Now, lets make the model for the univariate linear regression. It is the similar to multivariate linear regression. The only difference is the number of variable used."
      ]
    },
    {
      "cell_type": "code",
      "metadata": {
        "colab": {
          "base_uri": "https://localhost:8080/"
        },
        "id": "0z2YAEjFGaxE",
        "outputId": "eb8a87ee-2092-4e5d-a43f-648381a13418"
      },
      "source": [
        "LRM = LinearRegression().fit(XTrain, YTrain)\n",
        "prediction = LRM.predict(XTest)\n",
        "\n",
        "print(prediction)\n",
        "\n",
        "theta = np.zeros(2)\n",
        "theta[0] = LRM.intercept_\n",
        "theta[1] = LRM.coef_\n",
        "\n",
        "for i, data in enumerate(theta):\n",
        "  print(\"Theta \",i,\":\",data)\n",
        "\n",
        "LRM.score(XTest, YTest)"
      ],
      "execution_count": null,
      "outputs": [
        {
          "output_type": "stream",
          "text": [
            "[1.32874814 1.30329045 1.30329045 ... 1.40512119 1.32874814 2.06702095]\n",
            "Theta  0 : 1.277832770219132\n",
            "Theta  1 : 0.025457683218580062\n"
          ],
          "name": "stdout"
        },
        {
          "output_type": "execute_result",
          "data": {
            "text/plain": [
              "0.31461512317549434"
            ]
          },
          "metadata": {
            "tags": []
          },
          "execution_count": 91
        }
      ]
    },
    {
      "cell_type": "markdown",
      "metadata": {
        "id": "X1mSmcyOIBB0"
      },
      "source": [
        "Lets, predict the data"
      ]
    },
    {
      "cell_type": "code",
      "metadata": {
        "colab": {
          "base_uri": "https://localhost:8080/",
          "height": 197
        },
        "id": "Mx7ppjKNICs8",
        "outputId": "869edb53-c833-4f30-823d-2d51ff8d7faf"
      },
      "source": [
        "number_of_reviews = [1.55, 1.24, 1.65, 1.25]\n",
        "for i in number_of_reviews:\n",
        "  print(\"Number of reviews :\", theta[0] + theta[1]*number_of_reviews[i])"
      ],
      "execution_count": null,
      "outputs": [
        {
          "output_type": "error",
          "ename": "TypeError",
          "evalue": "ignored",
          "traceback": [
            "\u001b[0;31m---------------------------------------------------------------------------\u001b[0m",
            "\u001b[0;31mTypeError\u001b[0m                                 Traceback (most recent call last)",
            "\u001b[0;32m<ipython-input-92-30dd478e4719>\u001b[0m in \u001b[0;36m<module>\u001b[0;34m()\u001b[0m\n\u001b[1;32m      1\u001b[0m \u001b[0mnumber_of_reviews\u001b[0m \u001b[0;34m=\u001b[0m \u001b[0;34m[\u001b[0m\u001b[0;36m1.55\u001b[0m\u001b[0;34m,\u001b[0m \u001b[0;36m1.24\u001b[0m\u001b[0;34m,\u001b[0m \u001b[0;36m1.65\u001b[0m\u001b[0;34m,\u001b[0m \u001b[0;36m1.25\u001b[0m\u001b[0;34m]\u001b[0m\u001b[0;34m\u001b[0m\u001b[0;34m\u001b[0m\u001b[0m\n\u001b[1;32m      2\u001b[0m \u001b[0;32mfor\u001b[0m \u001b[0mi\u001b[0m \u001b[0;32min\u001b[0m \u001b[0mnumber_of_reviews\u001b[0m\u001b[0;34m:\u001b[0m\u001b[0;34m\u001b[0m\u001b[0;34m\u001b[0m\u001b[0m\n\u001b[0;32m----> 3\u001b[0;31m   \u001b[0mprint\u001b[0m\u001b[0;34m(\u001b[0m\u001b[0;34m\"Number of reviews :\"\u001b[0m\u001b[0;34m,\u001b[0m \u001b[0mtheta\u001b[0m\u001b[0;34m[\u001b[0m\u001b[0;36m0\u001b[0m\u001b[0;34m]\u001b[0m \u001b[0;34m+\u001b[0m \u001b[0mtheta\u001b[0m\u001b[0;34m[\u001b[0m\u001b[0;36m1\u001b[0m\u001b[0;34m]\u001b[0m\u001b[0;34m*\u001b[0m\u001b[0mnumber_of_reviews\u001b[0m\u001b[0;34m[\u001b[0m\u001b[0mi\u001b[0m\u001b[0;34m]\u001b[0m\u001b[0;34m)\u001b[0m\u001b[0;34m\u001b[0m\u001b[0;34m\u001b[0m\u001b[0m\n\u001b[0m",
            "\u001b[0;31mTypeError\u001b[0m: list indices must be integers or slices, not float"
          ]
        }
      ]
    },
    {
      "cell_type": "markdown",
      "metadata": {
        "id": "v-oH0un9AHGj"
      },
      "source": [
        "## b."
      ]
    },
    {
      "cell_type": "code",
      "metadata": {
        "id": "vjLwf0kJAIQT"
      },
      "source": [
        ""
      ],
      "execution_count": null,
      "outputs": []
    }
  ]
}